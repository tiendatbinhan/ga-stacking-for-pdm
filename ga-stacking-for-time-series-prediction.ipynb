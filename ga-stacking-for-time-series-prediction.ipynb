{
 "cells": [
  {
   "cell_type": "markdown",
   "id": "aefb00a6",
   "metadata": {
    "papermill": {
     "duration": 0.01522,
     "end_time": "2025-01-02T22:38:30.250373",
     "exception": false,
     "start_time": "2025-01-02T22:38:30.235153",
     "status": "completed"
    },
    "tags": []
   },
   "source": [
    "# Import required libraries"
   ]
  },
  {
   "cell_type": "code",
   "execution_count": 1,
   "id": "441f0c60",
   "metadata": {
    "_cell_guid": "f7af7181-5427-40b8-a59e-86e0d10d00d6",
    "_uuid": "cc24f0db-72fc-443a-8030-237e0b0b04b9",
    "collapsed": false,
    "execution": {
     "iopub.execute_input": "2025-01-02T22:38:30.280204Z",
     "iopub.status.busy": "2025-01-02T22:38:30.279693Z",
     "iopub.status.idle": "2025-01-02T22:38:32.892633Z",
     "shell.execute_reply": "2025-01-02T22:38:32.891460Z"
    },
    "id": "gUJNobWUe9t_",
    "jupyter": {
     "outputs_hidden": false
    },
    "papermill": {
     "duration": 2.630003,
     "end_time": "2025-01-02T22:38:32.894869",
     "exception": false,
     "start_time": "2025-01-02T22:38:30.264866",
     "status": "completed"
    },
    "tags": []
   },
   "outputs": [],
   "source": [
    "# Standard library imports\n",
    "import datetime\n",
    "import math\n",
    "from copy import deepcopy\n",
    "from typing import Literal, Iterable, Union\n",
    "\n",
    "# Third-party libraries\n",
    "import numpy as np\n",
    "import pandas as pd\n",
    "import matplotlib.pyplot as plt\n",
    "import seaborn as sns\n",
    "from tqdm import tqdm\n",
    "\n",
    "# Scikit-learn imports\n",
    "from sklearn.base import BaseEstimator, clone\n",
    "from sklearn.ensemble import StackingClassifier, StackingRegressor\n",
    "from sklearn.metrics import mean_absolute_error, mean_squared_error, make_scorer\n",
    "from sklearn.model_selection import GridSearchCV, RandomizedSearchCV, TimeSeriesSplit\n",
    "from sklearn.preprocessing import MinMaxScaler\n",
    "\n",
    "# Suppress warnings\n",
    "import warnings\n",
    "warnings.filterwarnings('ignore')"
   ]
  },
  {
   "cell_type": "code",
   "execution_count": 2,
   "id": "5ffde3af",
   "metadata": {
    "execution": {
     "iopub.execute_input": "2025-01-02T22:38:32.924907Z",
     "iopub.status.busy": "2025-01-02T22:38:32.924277Z",
     "iopub.status.idle": "2025-01-02T22:38:33.057705Z",
     "shell.execute_reply": "2025-01-02T22:38:33.056379Z"
    },
    "papermill": {
     "duration": 0.150808,
     "end_time": "2025-01-02T22:38:33.060287",
     "exception": false,
     "start_time": "2025-01-02T22:38:32.909479",
     "status": "completed"
    },
    "tags": []
   },
   "outputs": [
    {
     "name": "stdout",
     "output_type": "stream",
     "text": [
      "Python 3.10.12\r\n"
     ]
    }
   ],
   "source": [
    "!python -V"
   ]
  },
  {
   "cell_type": "markdown",
   "id": "19138096",
   "metadata": {
    "papermill": {
     "duration": 0.013637,
     "end_time": "2025-01-02T22:38:33.088982",
     "exception": false,
     "start_time": "2025-01-02T22:38:33.075345",
     "status": "completed"
    },
    "tags": []
   },
   "source": [
    "# Genetic Algorithm functions"
   ]
  },
  {
   "cell_type": "markdown",
   "id": "ac32ae04",
   "metadata": {
    "papermill": {
     "duration": 0.013829,
     "end_time": "2025-01-02T22:38:33.117541",
     "exception": false,
     "start_time": "2025-01-02T22:38:33.103712",
     "status": "completed"
    },
    "tags": []
   },
   "source": [
    "## Initialize population"
   ]
  },
  {
   "cell_type": "code",
   "execution_count": 3,
   "id": "22696a33",
   "metadata": {
    "execution": {
     "iopub.execute_input": "2025-01-02T22:38:33.147482Z",
     "iopub.status.busy": "2025-01-02T22:38:33.147013Z",
     "iopub.status.idle": "2025-01-02T22:38:33.152766Z",
     "shell.execute_reply": "2025-01-02T22:38:33.151648Z"
    },
    "papermill": {
     "duration": 0.023409,
     "end_time": "2025-01-02T22:38:33.155041",
     "exception": false,
     "start_time": "2025-01-02T22:38:33.131632",
     "status": "completed"
    },
    "tags": []
   },
   "outputs": [],
   "source": [
    "def initialize_population(num_individuals, num_variables, seed):\n",
    "    np.random.seed(seed)\n",
    "    pop = np.random.randint(2, size=(num_individuals, num_variables))\n",
    "    return pop"
   ]
  },
  {
   "cell_type": "markdown",
   "id": "5300ce4f",
   "metadata": {
    "papermill": {
     "duration": 0.0134,
     "end_time": "2025-01-02T22:38:33.182503",
     "exception": false,
     "start_time": "2025-01-02T22:38:33.169103",
     "status": "completed"
    },
    "tags": []
   },
   "source": [
    "## Crossover"
   ]
  },
  {
   "cell_type": "code",
   "execution_count": 4,
   "id": "069da71e",
   "metadata": {
    "execution": {
     "iopub.execute_input": "2025-01-02T22:38:33.211727Z",
     "iopub.status.busy": "2025-01-02T22:38:33.211283Z",
     "iopub.status.idle": "2025-01-02T22:38:33.221593Z",
     "shell.execute_reply": "2025-01-02T22:38:33.220347Z"
    },
    "papermill": {
     "duration": 0.027002,
     "end_time": "2025-01-02T22:38:33.223361",
     "exception": false,
     "start_time": "2025-01-02T22:38:33.196359",
     "status": "completed"
    },
    "tags": []
   },
   "outputs": [],
   "source": [
    "def crossover(pop, mode: Literal[\"1X\", \"UX\"] = \"UX\", seed=None, crossover_prob=0.5):\n",
    "    np.random.seed(seed)\n",
    "    num_individuals = len(pop)\n",
    "    num_parameters = len(pop[0])\n",
    "    indices = np.arange(num_individuals)\n",
    "    np.random.shuffle(indices)\n",
    "    offspring = []\n",
    "\n",
    "    for i in range(0, num_individuals, 2):\n",
    "        idx1 = indices[i]\n",
    "        idx2 = indices[i + 1]\n",
    "        offspring1 = list(pop[idx1])\n",
    "        offspring2 = list(pop[idx2])\n",
    "\n",
    "        if mode == \"UX\":\n",
    "            for idx in range(0, num_parameters):\n",
    "                r = np.random.rand()\n",
    "                if r < crossover_prob:\n",
    "                    temp = offspring2[idx]\n",
    "                    offspring2[idx] = offspring1[idx]\n",
    "                    offspring1[idx] = temp\n",
    "        else:\n",
    "            cross_point = np.random.randint(num_parameters - 1)\n",
    "            for idx in range(cross_point, num_parameters):\n",
    "                temp = offspring2[idx]\n",
    "                offspring2[idx] = offspring1[idx]\n",
    "                offspring1[idx] = temp\n",
    "\n",
    "        offspring.append(offspring1)\n",
    "        offspring.append(offspring2)\n",
    "\n",
    "    offspring = np.array(offspring)\n",
    "    return offspring"
   ]
  },
  {
   "cell_type": "markdown",
   "id": "ce5ee86f",
   "metadata": {
    "papermill": {
     "duration": 0.013697,
     "end_time": "2025-01-02T22:38:33.251223",
     "exception": false,
     "start_time": "2025-01-02T22:38:33.237526",
     "status": "completed"
    },
    "tags": []
   },
   "source": [
    "## Mutation"
   ]
  },
  {
   "cell_type": "code",
   "execution_count": 5,
   "id": "6674ce6c",
   "metadata": {
    "execution": {
     "iopub.execute_input": "2025-01-02T22:38:33.280544Z",
     "iopub.status.busy": "2025-01-02T22:38:33.280123Z",
     "iopub.status.idle": "2025-01-02T22:38:33.285888Z",
     "shell.execute_reply": "2025-01-02T22:38:33.284690Z"
    },
    "papermill": {
     "duration": 0.022656,
     "end_time": "2025-01-02T22:38:33.287780",
     "exception": false,
     "start_time": "2025-01-02T22:38:33.265124",
     "status": "completed"
    },
    "tags": []
   },
   "outputs": [],
   "source": [
    "def mutation(pop, seed=None, mutation_prob=0.5):\n",
    "    np.random.seed(seed)\n",
    "    num_individuals = len(pop)\n",
    "    num_parameters = len(pop[0])\n",
    "\n",
    "    mutation_mask = np.random.choice([True, False],\n",
    "                                     size=(num_individuals, num_parameters),\n",
    "                                     p=[mutation_prob, 1 - mutation_prob])\n",
    "    return np.where(mutation_mask, 1-pop, pop)"
   ]
  },
  {
   "cell_type": "markdown",
   "id": "c38958d1",
   "metadata": {
    "papermill": {
     "duration": 0.01362,
     "end_time": "2025-01-02T22:38:33.315583",
     "exception": false,
     "start_time": "2025-01-02T22:38:33.301963",
     "status": "completed"
    },
    "tags": []
   },
   "source": [
    "## Selection"
   ]
  },
  {
   "cell_type": "code",
   "execution_count": 6,
   "id": "d9514c4c",
   "metadata": {
    "execution": {
     "iopub.execute_input": "2025-01-02T22:38:33.346165Z",
     "iopub.status.busy": "2025-01-02T22:38:33.345669Z",
     "iopub.status.idle": "2025-01-02T22:38:33.352221Z",
     "shell.execute_reply": "2025-01-02T22:38:33.351119Z"
    },
    "papermill": {
     "duration": 0.023793,
     "end_time": "2025-01-02T22:38:33.353849",
     "exception": false,
     "start_time": "2025-01-02T22:38:33.330056",
     "status": "completed"
    },
    "tags": []
   },
   "outputs": [],
   "source": [
    "def tournament_selection_for_popop(pop, pop_fitness, tournament_size, seed=None):\n",
    "    assert pop.shape[0] == pop_fitness.shape[0]\n",
    "\n",
    "    np.random.seed(seed)\n",
    "    selected_indices = []\n",
    "    indices = np.arange(pop.shape[0])\n",
    "\n",
    "    for _ in range(2):\n",
    "        np.random.shuffle(indices)\n",
    "\n",
    "        tournament_groups = np.split(indices, np.arange(tournament_size, pop.shape[0], tournament_size))\n",
    "\n",
    "        for group in tournament_groups:\n",
    "            group_fitness = np.apply_along_axis(lambda x: pop_fitness[x], arr=group, axis=0)\n",
    "            selected_indices.append(group[np.argmax(group_fitness)])\n",
    "\n",
    "    selected_indices = np.array(selected_indices)\n",
    "    return selected_indices"
   ]
  },
  {
   "cell_type": "code",
   "execution_count": 7,
   "id": "05272ddc",
   "metadata": {
    "execution": {
     "iopub.execute_input": "2025-01-02T22:38:33.383314Z",
     "iopub.status.busy": "2025-01-02T22:38:33.382940Z",
     "iopub.status.idle": "2025-01-02T22:38:33.387781Z",
     "shell.execute_reply": "2025-01-02T22:38:33.386771Z"
    },
    "papermill": {
     "duration": 0.021457,
     "end_time": "2025-01-02T22:38:33.389573",
     "exception": false,
     "start_time": "2025-01-02T22:38:33.368116",
     "status": "completed"
    },
    "tags": []
   },
   "outputs": [],
   "source": [
    "def truncation_selection(pop, pop_fitness, selection_size=None):\n",
    "    assert pop.shape[0] == pop_fitness.shape[0]\n",
    "    if selection_size is None:\n",
    "        selection_size = pop.shape[0] // 2\n",
    "    selected_indices = np.argsort(pop_fitness)[-selection_size:]\n",
    "    return selected_indices"
   ]
  },
  {
   "cell_type": "markdown",
   "id": "91860f41",
   "metadata": {
    "papermill": {
     "duration": 0.013495,
     "end_time": "2025-01-02T22:38:33.417646",
     "exception": false,
     "start_time": "2025-01-02T22:38:33.404151",
     "status": "completed"
    },
    "tags": []
   },
   "source": [
    "## Some misc functions"
   ]
  },
  {
   "cell_type": "code",
   "execution_count": 8,
   "id": "724edff6",
   "metadata": {
    "execution": {
     "iopub.execute_input": "2025-01-02T22:38:33.447444Z",
     "iopub.status.busy": "2025-01-02T22:38:33.447096Z",
     "iopub.status.idle": "2025-01-02T22:38:33.453467Z",
     "shell.execute_reply": "2025-01-02T22:38:33.452300Z"
    },
    "papermill": {
     "duration": 0.023565,
     "end_time": "2025-01-02T22:38:33.455409",
     "exception": false,
     "start_time": "2025-01-02T22:38:33.431844",
     "status": "completed"
    },
    "tags": []
   },
   "outputs": [],
   "source": [
    "def merge_two_population(pop1, pop2):\n",
    "    result_pop = np.vstack([pop1, pop2])\n",
    "    return result_pop\n",
    "\n",
    "def pop_from_selection(pop, selected_indices):\n",
    "    result_pop = np.array([pop[i] for i in selected_indices])\n",
    "    return result_pop\n",
    "\n",
    "def is_converged(pop: np.ndarray):\n",
    "    return np.unique(pop).shape[0] == 1\n",
    "\n",
    "def is_best_fitness_possible(pop: np.ndarray, best_fitness, func):\n",
    "    num_params = pop[0].shape[0]\n",
    "    best_ind = np.ones(num_params)\n",
    "    return best_fitness == func(best_ind)"
   ]
  },
  {
   "cell_type": "markdown",
   "id": "23d92ea3",
   "metadata": {
    "papermill": {
     "duration": 0.013737,
     "end_time": "2025-01-02T22:38:33.483620",
     "exception": false,
     "start_time": "2025-01-02T22:38:33.469883",
     "status": "completed"
    },
    "tags": []
   },
   "source": [
    "# Genetic Algorithms"
   ]
  },
  {
   "cell_type": "markdown",
   "id": "6b204a19",
   "metadata": {
    "papermill": {
     "duration": 0.014132,
     "end_time": "2025-01-02T22:38:33.511600",
     "exception": false,
     "start_time": "2025-01-02T22:38:33.497468",
     "status": "completed"
    },
    "tags": []
   },
   "source": [
    "## Paper-purposed algorithm"
   ]
  },
  {
   "cell_type": "code",
   "execution_count": 9,
   "id": "9413cdff",
   "metadata": {
    "execution": {
     "iopub.execute_input": "2025-01-02T22:38:33.541194Z",
     "iopub.status.busy": "2025-01-02T22:38:33.540833Z",
     "iopub.status.idle": "2025-01-02T22:38:33.550931Z",
     "shell.execute_reply": "2025-01-02T22:38:33.549977Z"
    },
    "papermill": {
     "duration": 0.027197,
     "end_time": "2025-01-02T22:38:33.552819",
     "exception": false,
     "start_time": "2025-01-02T22:38:33.525622",
     "status": "completed"
    },
    "tags": []
   },
   "outputs": [],
   "source": [
    "def paper_genetic_algorithm(fitness_function: callable,\n",
    "                            num_individuals: int,\n",
    "                            num_parameters: int,\n",
    "                            seed=None,\n",
    "                            num_generations: int=10,\n",
    "                            mutation_rate: float=0.5,\n",
    "                            crossover_rate: float=0.5,\n",
    "                            verbose=False):\n",
    "    # Step 1: Initialize Population\n",
    "    population = initialize_population(num_individuals, num_parameters, seed)\n",
    "    gen_counter = 0\n",
    "    eval_counter = 0\n",
    "    best_fitness = []\n",
    "    fitness_scores = None  # Initialize fitness_scores as None\n",
    "\n",
    "    if verbose:\n",
    "        print(f\"Gen #{gen_counter}:\\n{population}\")\n",
    "\n",
    "    # Step 2: Evolutionary loop with tqdm\n",
    "    with tqdm(total=num_generations, desc=\"Generations\", unit=\"gen\") as progress_bar:\n",
    "        for generation in range(num_generations):\n",
    "            # Step 3: Evaluation (only if fitness_scores is None)\n",
    "            if fitness_scores is None:\n",
    "                fitness_scores = np.array([fitness_function(individual) for individual in population])\n",
    "                eval_counter += fitness_scores.shape[0]\n",
    "\n",
    "            gen_counter += 1\n",
    "            best_fitness.append([eval_counter, np.max(fitness_scores)])\n",
    "\n",
    "            # Step 4: Selection\n",
    "            selected_individuals = truncation_selection(population, fitness_scores)\n",
    "            selected_population = pop_from_selection(population, selected_individuals)\n",
    "            selected_fitness_scores = fitness_scores[selected_individuals]  # Extract fitness scores for selected individuals\n",
    "\n",
    "            # Step 5: Crossover\n",
    "            offspring = crossover(population, crossover_prob=crossover_rate)\n",
    "\n",
    "            # Step 6: Mutation\n",
    "            mutated_offspring = mutation(offspring, mutation_prob=mutation_rate)\n",
    "            offspring_fitness_scores = np.array([fitness_function(individual) for individual in mutated_offspring])\n",
    "            eval_counter += offspring_fitness_scores.shape[0]\n",
    "\n",
    "            mutated_selection = truncation_selection(mutated_offspring, offspring_fitness_scores)\n",
    "            mutated_offspring = pop_from_selection(mutated_offspring, mutated_selection)\n",
    "            selected_offspring_fitness_scores = offspring_fitness_scores[mutated_selection]  # Extract fitness scores for mutated selection\n",
    "\n",
    "            # Step 7: Create new population\n",
    "            population = merge_two_population(selected_population, mutated_offspring)\n",
    "            fitness_scores = np.concatenate((selected_fitness_scores, selected_offspring_fitness_scores))  # Merge fitness scores\n",
    "\n",
    "            if verbose:\n",
    "                print(f\"Gen #{gen_counter}:\\n{population}\")\n",
    "\n",
    "            # Step 8: Check for convergence\n",
    "            if is_converged(population):\n",
    "                break\n",
    "\n",
    "            # Update tqdm progress bar\n",
    "            progress_bar.update(1)\n",
    "\n",
    "    # Final Step: Return the best solution found\n",
    "    fitness_scores = np.array([fitness_function(individual) for individual in population])\n",
    "    eval_counter += fitness_scores.shape[0]\n",
    "    best_fitness.append([eval_counter, np.max(fitness_scores)])\n",
    "\n",
    "    if verbose:\n",
    "        print('#Final result:')\n",
    "        print(population)\n",
    "        print(best_fitness)\n",
    "\n",
    "    return (population,\n",
    "            fitness_scores,\n",
    "            best_fitness,\n",
    "            eval_counter,\n",
    "            is_converged(population),\n",
    "            is_best_fitness_possible(population, np.max(fitness_scores), fitness_function))"
   ]
  },
  {
   "cell_type": "markdown",
   "id": "41b8e34f",
   "metadata": {
    "papermill": {
     "duration": 0.013257,
     "end_time": "2025-01-02T22:38:33.580083",
     "exception": false,
     "start_time": "2025-01-02T22:38:33.566826",
     "status": "completed"
    },
    "tags": []
   },
   "source": [
    "## POPOP algorithm"
   ]
  },
  {
   "cell_type": "code",
   "execution_count": 10,
   "id": "f8c329eb",
   "metadata": {
    "execution": {
     "iopub.execute_input": "2025-01-02T22:38:33.608780Z",
     "iopub.status.busy": "2025-01-02T22:38:33.608323Z",
     "iopub.status.idle": "2025-01-02T22:38:33.617648Z",
     "shell.execute_reply": "2025-01-02T22:38:33.616556Z"
    },
    "papermill": {
     "duration": 0.025719,
     "end_time": "2025-01-02T22:38:33.619305",
     "exception": false,
     "start_time": "2025-01-02T22:38:33.593586",
     "status": "completed"
    },
    "tags": []
   },
   "outputs": [],
   "source": [
    "def popop_genetic_algorithm(metric, num_individuals, num_parameters,\n",
    "                            crossover_mode: Literal[\"1X\", \"UX\"] = \"UX\",\n",
    "                            max_evaluations=100_000, seed=None, verbose=False,\n",
    "                            crossover_prob=0.5, mutation_prob=0.1):\n",
    "    pop = initialize_population(num_individuals, num_parameters, seed)\n",
    "    np.random.seed(seed)\n",
    "\n",
    "    num_eval = 0\n",
    "    generation_num = 0\n",
    "    best_fitness = []\n",
    "\n",
    "    if verbose:\n",
    "        print(f\"Gen #0:\\n{pop}\")\n",
    "\n",
    "    # Initialize the tqdm progress bar\n",
    "    with tqdm(total=max_evaluations, desc=\"Evaluations\", unit=\"eval\") as pbar:\n",
    "        while num_eval < max_evaluations:\n",
    "            offspring = crossover(pop, crossover_mode, seed, crossover_prob=crossover_prob)\n",
    "            offspring = mutation(offspring, seed, mutation_prob=mutation_prob)\n",
    "            pop = merge_two_population(pop, offspring)\n",
    "\n",
    "            pop_fitness = np.array([metric(ind) for ind in pop])\n",
    "            evaluations_in_this_gen = pop_fitness.shape[0]\n",
    "            num_eval += evaluations_in_this_gen\n",
    "            best_fitness.append([num_eval, np.max(pop_fitness)])\n",
    "            \n",
    "            # Update tqdm\n",
    "            pbar.update(evaluations_in_this_gen)\n",
    "\n",
    "            selection_indices = tournament_selection_for_popop(pop, pop_fitness, 4, seed)\n",
    "            pop = pop_from_selection(pop, selection_indices)\n",
    "            generation_num += 1\n",
    "            if verbose:\n",
    "                print(f\"Gen #{generation_num}:\\n{pop}\")\n",
    "\n",
    "            if is_converged(pop):\n",
    "                break\n",
    "\n",
    "        pop_fitness = np.array([metric(ind) for ind in pop])\n",
    "        best_fitness.append([num_eval, np.max(pop_fitness)])\n",
    "        # Update the progress bar in case of early convergence\n",
    "        pbar.update(max_evaluations - pbar.n)\n",
    "\n",
    "    if verbose:\n",
    "        print('#Final result:')\n",
    "        print(pop)\n",
    "        print(pop_fitness)\n",
    "\n",
    "    return (pop,\n",
    "            pop_fitness,\n",
    "            best_fitness,\n",
    "            num_eval,\n",
    "            is_converged(pop),\n",
    "            is_best_fitness_possible(pop, np.max(pop_fitness), metric))"
   ]
  },
  {
   "cell_type": "markdown",
   "id": "f5a3bc1f",
   "metadata": {
    "papermill": {
     "duration": 0.013043,
     "end_time": "2025-01-02T22:38:33.645827",
     "exception": false,
     "start_time": "2025-01-02T22:38:33.632784",
     "status": "completed"
    },
    "tags": []
   },
   "source": [
    "# Tuning models function"
   ]
  },
  {
   "cell_type": "code",
   "execution_count": 11,
   "id": "6069bbdc",
   "metadata": {
    "execution": {
     "iopub.execute_input": "2025-01-02T22:38:33.674246Z",
     "iopub.status.busy": "2025-01-02T22:38:33.673712Z",
     "iopub.status.idle": "2025-01-02T22:38:33.686402Z",
     "shell.execute_reply": "2025-01-02T22:38:33.684946Z"
    },
    "papermill": {
     "duration": 0.028963,
     "end_time": "2025-01-02T22:38:33.688137",
     "exception": false,
     "start_time": "2025-01-02T22:38:33.659174",
     "status": "completed"
    },
    "tags": []
   },
   "outputs": [],
   "source": [
    "def tune_and_evaluate_models(X_train, X_val, y_train, y_val, base_models, tuning_params, metric, mode='auto', n_iter=20, cv=5, seed=None):\n",
    "    \"\"\"\n",
    "    Tune and evaluate models using GridSearchCV or RandomizedSearchCV based on the specified mode.\n",
    "\n",
    "    Parameters:\n",
    "    - X_train, X_val: Training and validation features\n",
    "    - y_train, y_val: Training and validation targets\n",
    "    - base_models: Dictionary of models to evaluate\n",
    "    - tuning_params: Dictionary of hyperparameter grids for tuning\n",
    "    - metric: Evaluation metric\n",
    "    - mode: 'exhaustive', 'grid', 'randomized', or 'auto'\n",
    "    - n_iter: Number of iterations for RandomizedSearchCV, or number of max iterations for 'auto'\n",
    "    - cv: Cross-validation strategy or number of folds\n",
    "\n",
    "    Returns:\n",
    "    - optimal_models: Dictionary of models fitted with the best parameters\n",
    "    - validation_performance: Dictionary of performance metrics and best parameters\n",
    "    \"\"\"\n",
    "    # Create a scorer from the metric (e.g., f1_score)\n",
    "    scorer = make_scorer(metric)\n",
    "\n",
    "    # Dictionary to store models with optimal parameters\n",
    "    optimal_models = {}\n",
    "    # Dictionary to store model performance on validation set\n",
    "    validation_performance = {}\n",
    "\n",
    "    # Iterate through each model in the base_models dictionary\n",
    "    for model_name, model in tqdm(base_models.items(), desc=\"Tuning Models\", unit=\"model\"):\n",
    "        # Make a deepcopy of the model to avoid altering the original\n",
    "        model_copy = deepcopy(model)\n",
    "\n",
    "        # Check if the model has tuning parameters provided in tuning_params\n",
    "        if model_name in tuning_params:\n",
    "            param_grid = tuning_params[model_name]\n",
    "\n",
    "            # Determine the total number of parameter combinations\n",
    "            num_combinations = np.prod([len(values) for values in param_grid.values()])\n",
    "\n",
    "            # Decide search method based on mode\n",
    "            if mode in ['exhaustive', 'grid']:\n",
    "                search_method = GridSearchCV\n",
    "                search_kwargs = {'param_grid': param_grid}\n",
    "            elif mode == 'randomized':\n",
    "                search_method = RandomizedSearchCV\n",
    "                search_kwargs = {'param_distributions': param_grid, 'n_iter': n_iter}\n",
    "            elif mode == 'auto':\n",
    "                if num_combinations <= n_iter:\n",
    "                    search_method = GridSearchCV\n",
    "                    search_kwargs = {'param_grid': param_grid}\n",
    "                else:\n",
    "                    search_method = RandomizedSearchCV\n",
    "                    search_kwargs = {'param_distributions': param_grid, 'n_iter': min(n_iter, num_combinations), 'random_state': seed}\n",
    "            else:\n",
    "                raise ValueError(f\"Unknown mode '{mode}'. Choose from 'exhaustive', 'grid', 'randomized', 'auto'.\")\n",
    "\n",
    "            # Initialize the chosen search method with cross-validation\n",
    "            grid_or_random_search = search_method(\n",
    "                estimator=model_copy,\n",
    "                scoring=scorer,\n",
    "                cv=cv,\n",
    "                n_jobs=-1,\n",
    "                **search_kwargs\n",
    "            )\n",
    "\n",
    "            # Fit the model to the training data\n",
    "            grid_or_random_search.fit(X_train, y_train)\n",
    "\n",
    "            # Extract the best model and its parameters\n",
    "            best_params = grid_or_random_search.best_params_\n",
    "            best_score = grid_or_random_search.best_score_\n",
    "\n",
    "            # Equip the original model with the best parameters\n",
    "            best_model = clone(model)\n",
    "            best_model.set_params(**best_params)\n",
    "\n",
    "            # Fit the model with the optimal parameters\n",
    "            best_model.fit(X_train, y_train)\n",
    "\n",
    "            # Store the fitted model\n",
    "            optimal_models[model_name] = best_model\n",
    "\n",
    "            # Evaluate model performance on the validation set\n",
    "            val_score = metric(y_val, best_model.predict(X_val))\n",
    "            validation_performance[model_name] = {\n",
    "                \"best_params\": best_params,\n",
    "                \"cv_best_score\": best_score,\n",
    "                \"val_score\": val_score\n",
    "            }\n",
    "        else:\n",
    "            # If no tuning params are provided, use the model as is\n",
    "            model_copy.fit(X_train, y_train)\n",
    "\n",
    "            # Store the fitted model\n",
    "            optimal_models[model_name] = model_copy\n",
    "\n",
    "            # Evaluate on validation set without tuning\n",
    "            val_score = metric(y_val, model_copy.predict(X_val))\n",
    "            validation_performance[model_name] = {\n",
    "                \"best_params\": None,\n",
    "                \"cv_best_score\": None,\n",
    "                \"val_score\": val_score\n",
    "            }\n",
    "\n",
    "    return optimal_models, validation_performance"
   ]
  },
  {
   "cell_type": "markdown",
   "id": "3460bb59",
   "metadata": {
    "papermill": {
     "duration": 0.013236,
     "end_time": "2025-01-02T22:38:33.715093",
     "exception": false,
     "start_time": "2025-01-02T22:38:33.701857",
     "status": "completed"
    },
    "tags": []
   },
   "source": [
    "# GA-Stacking"
   ]
  },
  {
   "cell_type": "code",
   "execution_count": 12,
   "id": "8f07b072",
   "metadata": {
    "execution": {
     "iopub.execute_input": "2025-01-02T22:38:33.743921Z",
     "iopub.status.busy": "2025-01-02T22:38:33.743442Z",
     "iopub.status.idle": "2025-01-02T22:38:33.761735Z",
     "shell.execute_reply": "2025-01-02T22:38:33.760540Z"
    },
    "papermill": {
     "duration": 0.034893,
     "end_time": "2025-01-02T22:38:33.763388",
     "exception": false,
     "start_time": "2025-01-02T22:38:33.728495",
     "status": "completed"
    },
    "tags": []
   },
   "outputs": [],
   "source": [
    "class GAStackingSolver:\n",
    "    def __init__(self, X_train, y_train, X_val, y_val,\n",
    "                 base_models: Union[list[BaseEstimator], dict[str, BaseEstimator]],\n",
    "                 meta_model: BaseEstimator,\n",
    "                 num_individuals, metric,\n",
    "                 metric_mode: Literal['error', 'accuracy'] = 'accuracy',\n",
    "                 task: Literal['regressor', 'classifier'] = 'classifier',\n",
    "                 ga_mode: Literal['paper', 'popop'] = 'paper',\n",
    "                 max_gen=10,\n",
    "                 crossover_prob=0.2,\n",
    "                 mutation_prob=0.2,\n",
    "                 verbose=False,\n",
    "                 seed=None,\n",
    "                 **kwargs):\n",
    "        self.X_train = X_train\n",
    "        self.y_train = y_train\n",
    "        self.X_val = X_val\n",
    "        self.y_val = y_val\n",
    "        self.base_models = base_models\n",
    "        self.meta_model = meta_model\n",
    "        self.num_individuals = num_individuals\n",
    "        self.metric = metric\n",
    "        self.metric_mode = metric_mode\n",
    "        self.task = task\n",
    "        self.ga_mode = ga_mode\n",
    "        self.max_gen = max_gen\n",
    "        self.crossover_prob = crossover_prob\n",
    "        self.mutation_prob = mutation_prob\n",
    "        self.verbose = verbose\n",
    "        self.seed = seed\n",
    "        self.kwargs = kwargs\n",
    "\n",
    "        self.best_model = None\n",
    "        self.best_fitness = -np.inf if metric_mode == 'accuracy' else np.inf\n",
    "        self.best_combination = None\n",
    "\n",
    "    def _fitness(self, ind: np.ndarray):\n",
    "        num_params = ind.shape[0]\n",
    "\n",
    "        # Prepare base models based on the individual's chromosome\n",
    "        if isinstance(self.base_models, dict):\n",
    "            base_models_copy = [\n",
    "                (name, deepcopy(model)) for i, (name, model) in enumerate(self.base_models.items()) if ind[i]\n",
    "            ]\n",
    "        else:  # self.base_models is assumed to be a list\n",
    "            base_models_copy = [\n",
    "                (f\"estimator_{i}\", deepcopy(self.base_models[i])) for i in range(num_params) if ind[i]\n",
    "            ]\n",
    "\n",
    "        # Ensure we don't end up with an empty base model list\n",
    "        if not base_models_copy:\n",
    "            return -np.inf if self.metric_mode == 'accuracy' else np.inf\n",
    "\n",
    "        meta_model_copy = deepcopy(self.meta_model)\n",
    "        if self.task == 'classifier':\n",
    "            model = StackingClassifier(estimators=base_models_copy, final_estimator=meta_model_copy, cv='prefit', **self.kwargs)\n",
    "        else:\n",
    "            model = StackingRegressor(estimators=base_models_copy, final_estimator=meta_model_copy, cv='prefit', **self.kwargs)\n",
    "\n",
    "        model.fit(self.X_train, self.y_train)\n",
    "        y_val_predict = model.predict(self.X_val)\n",
    "        fitness_value = self.metric(self.y_val, y_val_predict)\n",
    "\n",
    "        if self.metric_mode == 'accuracy':\n",
    "            if fitness_value > self.best_fitness:\n",
    "                self.best_fitness = fitness_value\n",
    "                self.best_model = model\n",
    "                self.best_combination = np.copy(ind)\n",
    "        else:\n",
    "            if fitness_value < self.best_fitness:\n",
    "                self.best_fitness = fitness_value\n",
    "                self.best_model = model\n",
    "                self.best_combination = np.copy(ind)\n",
    "\n",
    "        return fitness_value if self.metric_mode == 'accuracy' else -fitness_value\n",
    "\n",
    "    def solve(self):\n",
    "        if self.ga_mode == 'popop':\n",
    "            return popop_genetic_algorithm(\n",
    "                self._fitness, self.num_individuals, len(self.base_models),\n",
    "                max_evaluations=self.max_gen * 2 * self.num_individuals,\n",
    "                crossover_prob=self.crossover_prob,\n",
    "                mutation_prob=self.mutation_prob,\n",
    "                verbose=self.verbose,\n",
    "                seed=self.seed\n",
    "            )\n",
    "        else:\n",
    "            return paper_genetic_algorithm(\n",
    "                self._fitness, self.num_individuals, len(self.base_models),\n",
    "                num_generations=self.max_gen,\n",
    "                crossover_rate=self.crossover_prob,\n",
    "                mutation_rate=self.mutation_prob,\n",
    "                verbose=self.verbose,\n",
    "                seed=self.seed\n",
    "            )\n",
    "\n",
    "def ga_stacking(X_train, y_train, X_val, y_val,\n",
    "                base_models: Union[list[BaseEstimator], dict[str, BaseEstimator]],\n",
    "                meta_model: BaseEstimator,\n",
    "                num_individuals, metric,\n",
    "                metric_mode: Literal['error', 'accuracy'] = 'accuracy',\n",
    "                task: Literal['regressor', 'classifier'] = 'classifier',\n",
    "                ga_mode: Literal['paper', 'popop'] = 'paper',\n",
    "                max_gen=10,\n",
    "                crossover_prob=0.2,\n",
    "                mutation_prob=0.2,\n",
    "                verbose=False,\n",
    "                seed=None,\n",
    "                **kwargs):\n",
    "    return GAStackingSolver(X_train, y_train, X_val, y_val,\n",
    "                            base_models,\n",
    "                            meta_model,\n",
    "                            num_individuals, metric,\n",
    "                            metric_mode,\n",
    "                            task,\n",
    "                            ga_mode,\n",
    "                            max_gen,\n",
    "                            crossover_prob,\n",
    "                            mutation_prob,\n",
    "                            verbose,\n",
    "                            seed,\n",
    "                            **kwargs)"
   ]
  },
  {
   "cell_type": "markdown",
   "id": "5566d07c",
   "metadata": {
    "_cell_guid": "ef861f0f-8aaf-4bf1-97d5-ffd5fd19b20b",
    "_uuid": "0ad71765-84ed-4b0f-927a-0cf4848a6a0a",
    "id": "hhauZWDbe9uC",
    "papermill": {
     "duration": 0.013619,
     "end_time": "2025-01-02T22:38:33.791683",
     "exception": false,
     "start_time": "2025-01-02T22:38:33.778064",
     "status": "completed"
    },
    "tags": []
   },
   "source": [
    "# Dataset"
   ]
  },
  {
   "cell_type": "code",
   "execution_count": 13,
   "id": "48f4483b",
   "metadata": {
    "_cell_guid": "692f6936-62f5-4200-b1d8-1db90f2262d1",
    "_uuid": "baf2747d-dd5e-4d5a-83de-887aec6210a7",
    "collapsed": false,
    "execution": {
     "iopub.execute_input": "2025-01-02T22:38:33.820820Z",
     "iopub.status.busy": "2025-01-02T22:38:33.820372Z",
     "iopub.status.idle": "2025-01-02T22:38:35.918866Z",
     "shell.execute_reply": "2025-01-02T22:38:35.917442Z"
    },
    "id": "25JOEv8ae9uD",
    "jupyter": {
     "outputs_hidden": false
    },
    "outputId": "07beea71-2986-4330-805a-5196246f0fb2",
    "papermill": {
     "duration": 2.115427,
     "end_time": "2025-01-02T22:38:35.921037",
     "exception": false,
     "start_time": "2025-01-02T22:38:33.805610",
     "status": "completed"
    },
    "tags": []
   },
   "outputs": [
    {
     "data": {
      "text/html": [
       "<div>\n",
       "<style scoped>\n",
       "    .dataframe tbody tr th:only-of-type {\n",
       "        vertical-align: middle;\n",
       "    }\n",
       "\n",
       "    .dataframe tbody tr th {\n",
       "        vertical-align: top;\n",
       "    }\n",
       "\n",
       "    .dataframe thead th {\n",
       "        text-align: right;\n",
       "    }\n",
       "</style>\n",
       "<table border=\"1\" class=\"dataframe\">\n",
       "  <thead>\n",
       "    <tr style=\"text-align: right;\">\n",
       "      <th></th>\n",
       "      <th>datetime</th>\n",
       "      <th>machineID</th>\n",
       "      <th>volt</th>\n",
       "      <th>rotate</th>\n",
       "      <th>pressure</th>\n",
       "      <th>vibration</th>\n",
       "    </tr>\n",
       "  </thead>\n",
       "  <tbody>\n",
       "    <tr>\n",
       "      <th>0</th>\n",
       "      <td>2015-01-01 06:00:00</td>\n",
       "      <td>1</td>\n",
       "      <td>176.217853</td>\n",
       "      <td>418.504078</td>\n",
       "      <td>113.077935</td>\n",
       "      <td>45.087686</td>\n",
       "    </tr>\n",
       "    <tr>\n",
       "      <th>1</th>\n",
       "      <td>2015-01-01 07:00:00</td>\n",
       "      <td>1</td>\n",
       "      <td>162.879223</td>\n",
       "      <td>402.747490</td>\n",
       "      <td>95.460525</td>\n",
       "      <td>43.413973</td>\n",
       "    </tr>\n",
       "    <tr>\n",
       "      <th>2</th>\n",
       "      <td>2015-01-01 08:00:00</td>\n",
       "      <td>1</td>\n",
       "      <td>170.989902</td>\n",
       "      <td>527.349825</td>\n",
       "      <td>75.237905</td>\n",
       "      <td>34.178847</td>\n",
       "    </tr>\n",
       "    <tr>\n",
       "      <th>3</th>\n",
       "      <td>2015-01-01 09:00:00</td>\n",
       "      <td>1</td>\n",
       "      <td>162.462833</td>\n",
       "      <td>346.149335</td>\n",
       "      <td>109.248561</td>\n",
       "      <td>41.122144</td>\n",
       "    </tr>\n",
       "    <tr>\n",
       "      <th>4</th>\n",
       "      <td>2015-01-01 10:00:00</td>\n",
       "      <td>1</td>\n",
       "      <td>157.610021</td>\n",
       "      <td>435.376873</td>\n",
       "      <td>111.886648</td>\n",
       "      <td>25.990511</td>\n",
       "    </tr>\n",
       "  </tbody>\n",
       "</table>\n",
       "</div>"
      ],
      "text/plain": [
       "              datetime  machineID        volt      rotate    pressure  \\\n",
       "0  2015-01-01 06:00:00          1  176.217853  418.504078  113.077935   \n",
       "1  2015-01-01 07:00:00          1  162.879223  402.747490   95.460525   \n",
       "2  2015-01-01 08:00:00          1  170.989902  527.349825   75.237905   \n",
       "3  2015-01-01 09:00:00          1  162.462833  346.149335  109.248561   \n",
       "4  2015-01-01 10:00:00          1  157.610021  435.376873  111.886648   \n",
       "\n",
       "   vibration  \n",
       "0  45.087686  \n",
       "1  43.413973  \n",
       "2  34.178847  \n",
       "3  41.122144  \n",
       "4  25.990511  "
      ]
     },
     "execution_count": 13,
     "metadata": {},
     "output_type": "execute_result"
    }
   ],
   "source": [
    "telemetry_df = pd.read_csv('/kaggle/input/microsoft-azure-predictive-maintenance/PdM_telemetry.csv')\n",
    "telemetry_df.head()"
   ]
  },
  {
   "cell_type": "markdown",
   "id": "0376592e",
   "metadata": {
    "_cell_guid": "d412a499-57d0-4001-9ef6-a22ae0ed96d2",
    "_uuid": "93ec5f28-ec93-4e25-8979-7786aa7b96e8",
    "id": "3-YvKTNje9uE",
    "papermill": {
     "duration": 0.016536,
     "end_time": "2025-01-02T22:38:35.954107",
     "exception": false,
     "start_time": "2025-01-02T22:38:35.937571",
     "status": "completed"
    },
    "tags": []
   },
   "source": [
    "## Data info"
   ]
  },
  {
   "cell_type": "code",
   "execution_count": 14,
   "id": "a7b24812",
   "metadata": {
    "_cell_guid": "58d6e1e6-40a0-46cf-9dcf-3cc418e37c67",
    "_uuid": "dc6a9334-e85e-4dea-a23a-03eff4a35190",
    "collapsed": false,
    "execution": {
     "iopub.execute_input": "2025-01-02T22:38:35.982828Z",
     "iopub.status.busy": "2025-01-02T22:38:35.982335Z",
     "iopub.status.idle": "2025-01-02T22:38:36.117853Z",
     "shell.execute_reply": "2025-01-02T22:38:36.116834Z"
    },
    "id": "7yX5Qa_ye9uE",
    "jupyter": {
     "outputs_hidden": false
    },
    "outputId": "d7c8d3bf-38d2-4c50-ebe6-d52744c92bcd",
    "papermill": {
     "duration": 0.151689,
     "end_time": "2025-01-02T22:38:36.119536",
     "exception": false,
     "start_time": "2025-01-02T22:38:35.967847",
     "status": "completed"
    },
    "tags": []
   },
   "outputs": [
    {
     "data": {
      "text/plain": [
       "('2015-01-01 06:00:00', '2016-01-01 06:00:00')"
      ]
     },
     "execution_count": 14,
     "metadata": {},
     "output_type": "execute_result"
    }
   ],
   "source": [
    "telemetry_df['datetime'].min(), telemetry_df['datetime'].max()"
   ]
  },
  {
   "cell_type": "code",
   "execution_count": 15,
   "id": "ff3a152f",
   "metadata": {
    "_cell_guid": "1d7648d4-f291-4657-a5a6-4181e924d9a8",
    "_uuid": "bf24fb97-e706-479c-bfd7-51caf03052a5",
    "collapsed": false,
    "execution": {
     "iopub.execute_input": "2025-01-02T22:38:36.149772Z",
     "iopub.status.busy": "2025-01-02T22:38:36.149326Z",
     "iopub.status.idle": "2025-01-02T22:38:36.172521Z",
     "shell.execute_reply": "2025-01-02T22:38:36.171482Z"
    },
    "id": "7GEtqkU9e9uF",
    "jupyter": {
     "outputs_hidden": false
    },
    "outputId": "747c186f-b241-431b-d801-c9e57dee74ef",
    "papermill": {
     "duration": 0.040146,
     "end_time": "2025-01-02T22:38:36.174318",
     "exception": false,
     "start_time": "2025-01-02T22:38:36.134172",
     "status": "completed"
    },
    "tags": []
   },
   "outputs": [
    {
     "data": {
      "text/plain": [
       "machineID\n",
       "1      8761\n",
       "64     8761\n",
       "74     8761\n",
       "73     8761\n",
       "72     8761\n",
       "       ... \n",
       "31     8761\n",
       "30     8761\n",
       "29     8761\n",
       "28     8761\n",
       "100    8761\n",
       "Name: count, Length: 100, dtype: int64"
      ]
     },
     "execution_count": 15,
     "metadata": {},
     "output_type": "execute_result"
    }
   ],
   "source": [
    "telemetry_df['machineID'].value_counts()"
   ]
  },
  {
   "cell_type": "code",
   "execution_count": 16,
   "id": "3ebea0f6",
   "metadata": {
    "_cell_guid": "9e84229d-ee4b-4d31-b82d-d2ec5d1817cb",
    "_uuid": "b913a3b3-72fb-4def-85b7-8e4d04139855",
    "collapsed": false,
    "execution": {
     "iopub.execute_input": "2025-01-02T22:38:36.216571Z",
     "iopub.status.busy": "2025-01-02T22:38:36.216063Z",
     "iopub.status.idle": "2025-01-02T22:38:36.448822Z",
     "shell.execute_reply": "2025-01-02T22:38:36.447333Z"
    },
    "id": "8MOsYn-Ue9uF",
    "jupyter": {
     "outputs_hidden": false
    },
    "outputId": "35fc8577-d62c-4f5c-e61c-5cbaf106e0ea",
    "papermill": {
     "duration": 0.256392,
     "end_time": "2025-01-02T22:38:36.451279",
     "exception": false,
     "start_time": "2025-01-02T22:38:36.194887",
     "status": "completed"
    },
    "tags": []
   },
   "outputs": [
    {
     "data": {
      "text/html": [
       "<div>\n",
       "<style scoped>\n",
       "    .dataframe tbody tr th:only-of-type {\n",
       "        vertical-align: middle;\n",
       "    }\n",
       "\n",
       "    .dataframe tbody tr th {\n",
       "        vertical-align: top;\n",
       "    }\n",
       "\n",
       "    .dataframe thead th {\n",
       "        text-align: right;\n",
       "    }\n",
       "</style>\n",
       "<table border=\"1\" class=\"dataframe\">\n",
       "  <thead>\n",
       "    <tr style=\"text-align: right;\">\n",
       "      <th></th>\n",
       "      <th>volt</th>\n",
       "      <th>rotate</th>\n",
       "      <th>pressure</th>\n",
       "      <th>vibration</th>\n",
       "    </tr>\n",
       "  </thead>\n",
       "  <tbody>\n",
       "    <tr>\n",
       "      <th>count</th>\n",
       "      <td>876100.000000</td>\n",
       "      <td>876100.000000</td>\n",
       "      <td>876100.000000</td>\n",
       "      <td>876100.000000</td>\n",
       "    </tr>\n",
       "    <tr>\n",
       "      <th>mean</th>\n",
       "      <td>170.777736</td>\n",
       "      <td>446.605119</td>\n",
       "      <td>100.858668</td>\n",
       "      <td>40.385007</td>\n",
       "    </tr>\n",
       "    <tr>\n",
       "      <th>std</th>\n",
       "      <td>15.509114</td>\n",
       "      <td>52.673886</td>\n",
       "      <td>11.048679</td>\n",
       "      <td>5.370361</td>\n",
       "    </tr>\n",
       "    <tr>\n",
       "      <th>min</th>\n",
       "      <td>97.333604</td>\n",
       "      <td>138.432075</td>\n",
       "      <td>51.237106</td>\n",
       "      <td>14.877054</td>\n",
       "    </tr>\n",
       "    <tr>\n",
       "      <th>25%</th>\n",
       "      <td>160.304927</td>\n",
       "      <td>412.305714</td>\n",
       "      <td>93.498181</td>\n",
       "      <td>36.777299</td>\n",
       "    </tr>\n",
       "    <tr>\n",
       "      <th>50%</th>\n",
       "      <td>170.607338</td>\n",
       "      <td>447.558150</td>\n",
       "      <td>100.425559</td>\n",
       "      <td>40.237247</td>\n",
       "    </tr>\n",
       "    <tr>\n",
       "      <th>75%</th>\n",
       "      <td>181.004493</td>\n",
       "      <td>482.176600</td>\n",
       "      <td>107.555231</td>\n",
       "      <td>43.784938</td>\n",
       "    </tr>\n",
       "    <tr>\n",
       "      <th>max</th>\n",
       "      <td>255.124717</td>\n",
       "      <td>695.020984</td>\n",
       "      <td>185.951998</td>\n",
       "      <td>76.791072</td>\n",
       "    </tr>\n",
       "  </tbody>\n",
       "</table>\n",
       "</div>"
      ],
      "text/plain": [
       "                volt         rotate       pressure      vibration\n",
       "count  876100.000000  876100.000000  876100.000000  876100.000000\n",
       "mean      170.777736     446.605119     100.858668      40.385007\n",
       "std        15.509114      52.673886      11.048679       5.370361\n",
       "min        97.333604     138.432075      51.237106      14.877054\n",
       "25%       160.304927     412.305714      93.498181      36.777299\n",
       "50%       170.607338     447.558150     100.425559      40.237247\n",
       "75%       181.004493     482.176600     107.555231      43.784938\n",
       "max       255.124717     695.020984     185.951998      76.791072"
      ]
     },
     "execution_count": 16,
     "metadata": {},
     "output_type": "execute_result"
    }
   ],
   "source": [
    "telemetry_df[['volt', 'rotate', 'pressure', 'vibration']].describe()"
   ]
  },
  {
   "cell_type": "code",
   "execution_count": 17,
   "id": "1ac0a97b",
   "metadata": {
    "_cell_guid": "f4817bae-7cd8-47e8-abd6-3b72c8da2267",
    "_uuid": "568580e7-dfc7-49e3-9dd2-3fa015747fad",
    "collapsed": false,
    "execution": {
     "iopub.execute_input": "2025-01-02T22:38:36.501445Z",
     "iopub.status.busy": "2025-01-02T22:38:36.501008Z",
     "iopub.status.idle": "2025-01-02T22:38:36.570270Z",
     "shell.execute_reply": "2025-01-02T22:38:36.568959Z"
    },
    "id": "Rn1neFFLe9uG",
    "jupyter": {
     "outputs_hidden": false
    },
    "outputId": "54cdf154-7686-477e-c986-7566ad3d6416",
    "papermill": {
     "duration": 0.098091,
     "end_time": "2025-01-02T22:38:36.571977",
     "exception": false,
     "start_time": "2025-01-02T22:38:36.473886",
     "status": "completed"
    },
    "tags": []
   },
   "outputs": [
    {
     "name": "stdout",
     "output_type": "stream",
     "text": [
      "<class 'pandas.core.frame.DataFrame'>\n",
      "RangeIndex: 876100 entries, 0 to 876099\n",
      "Data columns (total 6 columns):\n",
      " #   Column     Non-Null Count   Dtype  \n",
      "---  ------     --------------   -----  \n",
      " 0   datetime   876100 non-null  object \n",
      " 1   machineID  876100 non-null  int64  \n",
      " 2   volt       876100 non-null  float64\n",
      " 3   rotate     876100 non-null  float64\n",
      " 4   pressure   876100 non-null  float64\n",
      " 5   vibration  876100 non-null  float64\n",
      "dtypes: float64(4), int64(1), object(1)\n",
      "memory usage: 40.1+ MB\n"
     ]
    }
   ],
   "source": [
    "telemetry_df.info()"
   ]
  },
  {
   "cell_type": "markdown",
   "id": "de3c21cd",
   "metadata": {
    "_cell_guid": "1125b3b9-f9bb-4229-9528-0d09504cf2d1",
    "_uuid": "e7fc8794-08ca-47c3-9693-d0b2e8fdc9d5",
    "id": "VobUKB0Pe9uG",
    "papermill": {
     "duration": 0.014673,
     "end_time": "2025-01-02T22:38:36.602406",
     "exception": false,
     "start_time": "2025-01-02T22:38:36.587733",
     "status": "completed"
    },
    "tags": []
   },
   "source": [
    "# Data pre-processing"
   ]
  },
  {
   "cell_type": "markdown",
   "id": "bd1325f5",
   "metadata": {
    "_cell_guid": "e2a66b84-0b79-4138-96cc-07faaa909096",
    "_uuid": "eb2af9d0-e73c-4d96-a0ab-f0011dc5727a",
    "id": "ImmQ2MCWe9uH",
    "papermill": {
     "duration": 0.014827,
     "end_time": "2025-01-02T22:38:36.632080",
     "exception": false,
     "start_time": "2025-01-02T22:38:36.617253",
     "status": "completed"
    },
    "tags": []
   },
   "source": [
    "## Adding failure column"
   ]
  },
  {
   "cell_type": "code",
   "execution_count": 18,
   "id": "c7bfbd68",
   "metadata": {
    "_cell_guid": "9212a643-b0a5-49d2-a61b-07ff0cce8033",
    "_uuid": "319cd1dd-4334-4c1e-906a-bdac0cf831f2",
    "collapsed": false,
    "execution": {
     "iopub.execute_input": "2025-01-02T22:38:36.664575Z",
     "iopub.status.busy": "2025-01-02T22:38:36.664195Z",
     "iopub.status.idle": "2025-01-02T22:38:36.683954Z",
     "shell.execute_reply": "2025-01-02T22:38:36.682700Z"
    },
    "id": "Q83QcvX5e9uH",
    "jupyter": {
     "outputs_hidden": false
    },
    "outputId": "c7250e4a-a408-4064-fbcd-73c79e4523a0",
    "papermill": {
     "duration": 0.037817,
     "end_time": "2025-01-02T22:38:36.685932",
     "exception": false,
     "start_time": "2025-01-02T22:38:36.648115",
     "status": "completed"
    },
    "tags": []
   },
   "outputs": [
    {
     "data": {
      "text/html": [
       "<div>\n",
       "<style scoped>\n",
       "    .dataframe tbody tr th:only-of-type {\n",
       "        vertical-align: middle;\n",
       "    }\n",
       "\n",
       "    .dataframe tbody tr th {\n",
       "        vertical-align: top;\n",
       "    }\n",
       "\n",
       "    .dataframe thead th {\n",
       "        text-align: right;\n",
       "    }\n",
       "</style>\n",
       "<table border=\"1\" class=\"dataframe\">\n",
       "  <thead>\n",
       "    <tr style=\"text-align: right;\">\n",
       "      <th></th>\n",
       "      <th>datetime</th>\n",
       "      <th>machineID</th>\n",
       "      <th>failure</th>\n",
       "    </tr>\n",
       "  </thead>\n",
       "  <tbody>\n",
       "    <tr>\n",
       "      <th>0</th>\n",
       "      <td>2015-01-05 06:00:00</td>\n",
       "      <td>1</td>\n",
       "      <td>comp4</td>\n",
       "    </tr>\n",
       "    <tr>\n",
       "      <th>1</th>\n",
       "      <td>2015-03-06 06:00:00</td>\n",
       "      <td>1</td>\n",
       "      <td>comp1</td>\n",
       "    </tr>\n",
       "    <tr>\n",
       "      <th>2</th>\n",
       "      <td>2015-04-20 06:00:00</td>\n",
       "      <td>1</td>\n",
       "      <td>comp2</td>\n",
       "    </tr>\n",
       "    <tr>\n",
       "      <th>3</th>\n",
       "      <td>2015-06-19 06:00:00</td>\n",
       "      <td>1</td>\n",
       "      <td>comp4</td>\n",
       "    </tr>\n",
       "    <tr>\n",
       "      <th>4</th>\n",
       "      <td>2015-09-02 06:00:00</td>\n",
       "      <td>1</td>\n",
       "      <td>comp4</td>\n",
       "    </tr>\n",
       "  </tbody>\n",
       "</table>\n",
       "</div>"
      ],
      "text/plain": [
       "              datetime  machineID failure\n",
       "0  2015-01-05 06:00:00          1   comp4\n",
       "1  2015-03-06 06:00:00          1   comp1\n",
       "2  2015-04-20 06:00:00          1   comp2\n",
       "3  2015-06-19 06:00:00          1   comp4\n",
       "4  2015-09-02 06:00:00          1   comp4"
      ]
     },
     "execution_count": 18,
     "metadata": {},
     "output_type": "execute_result"
    }
   ],
   "source": [
    "failures = pd.read_csv('/kaggle/input/microsoft-azure-predictive-maintenance/PdM_failures.csv')\n",
    "failures.head()"
   ]
  },
  {
   "cell_type": "code",
   "execution_count": 19,
   "id": "a1b05648",
   "metadata": {
    "_cell_guid": "9ec79a69-e73e-4dc6-8753-d859bfa72f42",
    "_uuid": "d18ca817-fe18-4b81-880d-e16a4dccedb2",
    "collapsed": false,
    "execution": {
     "iopub.execute_input": "2025-01-02T22:38:36.717845Z",
     "iopub.status.busy": "2025-01-02T22:38:36.717478Z",
     "iopub.status.idle": "2025-01-02T22:38:36.729918Z",
     "shell.execute_reply": "2025-01-02T22:38:36.728648Z"
    },
    "id": "YwGFU3mVe9uI",
    "jupyter": {
     "outputs_hidden": false
    },
    "outputId": "5d02343e-0115-4e6f-d5d3-4fe8a4df34e3",
    "papermill": {
     "duration": 0.030255,
     "end_time": "2025-01-02T22:38:36.731723",
     "exception": false,
     "start_time": "2025-01-02T22:38:36.701468",
     "status": "completed"
    },
    "tags": []
   },
   "outputs": [
    {
     "data": {
      "text/html": [
       "<div>\n",
       "<style scoped>\n",
       "    .dataframe tbody tr th:only-of-type {\n",
       "        vertical-align: middle;\n",
       "    }\n",
       "\n",
       "    .dataframe tbody tr th {\n",
       "        vertical-align: top;\n",
       "    }\n",
       "\n",
       "    .dataframe thead th {\n",
       "        text-align: right;\n",
       "    }\n",
       "</style>\n",
       "<table border=\"1\" class=\"dataframe\">\n",
       "  <thead>\n",
       "    <tr style=\"text-align: right;\">\n",
       "      <th></th>\n",
       "      <th>datetime</th>\n",
       "      <th>machineID</th>\n",
       "      <th>failure</th>\n",
       "    </tr>\n",
       "  </thead>\n",
       "  <tbody>\n",
       "    <tr>\n",
       "      <th>0</th>\n",
       "      <td>2015-01-02 03:00:00</td>\n",
       "      <td>56</td>\n",
       "      <td>comp3</td>\n",
       "    </tr>\n",
       "    <tr>\n",
       "      <th>1</th>\n",
       "      <td>2015-01-02 03:00:00</td>\n",
       "      <td>99</td>\n",
       "      <td>comp3</td>\n",
       "    </tr>\n",
       "    <tr>\n",
       "      <th>2</th>\n",
       "      <td>2015-01-02 03:00:00</td>\n",
       "      <td>83</td>\n",
       "      <td>comp4</td>\n",
       "    </tr>\n",
       "    <tr>\n",
       "      <th>3</th>\n",
       "      <td>2015-01-02 03:00:00</td>\n",
       "      <td>59</td>\n",
       "      <td>comp1</td>\n",
       "    </tr>\n",
       "    <tr>\n",
       "      <th>4</th>\n",
       "      <td>2015-01-02 03:00:00</td>\n",
       "      <td>16</td>\n",
       "      <td>comp1</td>\n",
       "    </tr>\n",
       "  </tbody>\n",
       "</table>\n",
       "</div>"
      ],
      "text/plain": [
       "              datetime  machineID failure\n",
       "0  2015-01-02 03:00:00         56   comp3\n",
       "1  2015-01-02 03:00:00         99   comp3\n",
       "2  2015-01-02 03:00:00         83   comp4\n",
       "3  2015-01-02 03:00:00         59   comp1\n",
       "4  2015-01-02 03:00:00         16   comp1"
      ]
     },
     "execution_count": 19,
     "metadata": {},
     "output_type": "execute_result"
    }
   ],
   "source": [
    "failures = failures.sort_values(by='datetime')\n",
    "failures.reset_index(inplace=True, drop=True)\n",
    "failures.head()"
   ]
  },
  {
   "cell_type": "code",
   "execution_count": 20,
   "id": "ffd4e781",
   "metadata": {
    "_cell_guid": "c282af7e-693b-4460-9b73-4abf3c84eff9",
    "_uuid": "83fee3c3-3e8e-46b2-9aba-2527f41db9ff",
    "collapsed": false,
    "execution": {
     "iopub.execute_input": "2025-01-02T22:38:36.764652Z",
     "iopub.status.busy": "2025-01-02T22:38:36.764313Z",
     "iopub.status.idle": "2025-01-02T22:38:36.771935Z",
     "shell.execute_reply": "2025-01-02T22:38:36.770747Z"
    },
    "id": "BxmQESIEe9uI",
    "jupyter": {
     "outputs_hidden": false
    },
    "outputId": "2e628f4e-42ca-469f-f97e-4ba34a7f6096",
    "papermill": {
     "duration": 0.026087,
     "end_time": "2025-01-02T22:38:36.773582",
     "exception": false,
     "start_time": "2025-01-02T22:38:36.747495",
     "status": "completed"
    },
    "tags": []
   },
   "outputs": [
    {
     "data": {
      "text/plain": [
       "failure\n",
       "comp2    259\n",
       "comp1    192\n",
       "comp4    179\n",
       "comp3    131\n",
       "Name: count, dtype: int64"
      ]
     },
     "execution_count": 20,
     "metadata": {},
     "output_type": "execute_result"
    }
   ],
   "source": [
    "failures['failure'].value_counts()"
   ]
  },
  {
   "cell_type": "code",
   "execution_count": 21,
   "id": "d4917a7f",
   "metadata": {
    "_cell_guid": "699c616e-40f8-45e2-917d-90e04633af2e",
    "_uuid": "2640207e-3e03-49d8-b08c-477736f7ca57",
    "collapsed": false,
    "execution": {
     "iopub.execute_input": "2025-01-02T22:38:36.805474Z",
     "iopub.status.busy": "2025-01-02T22:38:36.805055Z",
     "iopub.status.idle": "2025-01-02T22:38:37.309445Z",
     "shell.execute_reply": "2025-01-02T22:38:37.308316Z"
    },
    "id": "IYrPemMMe9uI",
    "jupyter": {
     "outputs_hidden": false
    },
    "papermill": {
     "duration": 0.52269,
     "end_time": "2025-01-02T22:38:37.311580",
     "exception": false,
     "start_time": "2025-01-02T22:38:36.788890",
     "status": "completed"
    },
    "tags": []
   },
   "outputs": [],
   "source": [
    "telemetry_with_failure_df = telemetry_df.merge(failures, on=['datetime', 'machineID'], how='left')\n",
    "telemetry_with_failure_df.fillna('No Failure', inplace=True)"
   ]
  },
  {
   "cell_type": "code",
   "execution_count": 22,
   "id": "e3b608e8",
   "metadata": {
    "_cell_guid": "7a48cc3c-963c-4dad-9d6f-1e85f571d93f",
    "_uuid": "94b4f1d6-6b95-492b-b97e-7588acc4cea8",
    "collapsed": false,
    "execution": {
     "iopub.execute_input": "2025-01-02T22:38:37.344691Z",
     "iopub.status.busy": "2025-01-02T22:38:37.344289Z",
     "iopub.status.idle": "2025-01-02T22:38:37.395354Z",
     "shell.execute_reply": "2025-01-02T22:38:37.394030Z"
    },
    "id": "AF1UG08ae9uJ",
    "jupyter": {
     "outputs_hidden": false
    },
    "outputId": "933938f6-c472-44b5-cdd6-954b5f7932a4",
    "papermill": {
     "duration": 0.06988,
     "end_time": "2025-01-02T22:38:37.397326",
     "exception": false,
     "start_time": "2025-01-02T22:38:37.327446",
     "status": "completed"
    },
    "tags": []
   },
   "outputs": [
    {
     "data": {
      "text/plain": [
       "failure\n",
       "No Failure    875381\n",
       "comp2            259\n",
       "comp1            192\n",
       "comp4            179\n",
       "comp3            131\n",
       "Name: count, dtype: int64"
      ]
     },
     "execution_count": 22,
     "metadata": {},
     "output_type": "execute_result"
    }
   ],
   "source": [
    "telemetry_with_failure_df['failure'].value_counts()"
   ]
  },
  {
   "cell_type": "markdown",
   "id": "4be24b06",
   "metadata": {
    "_cell_guid": "1fc29994-1fd1-4921-9ad8-fc6045e200b2",
    "_uuid": "e7c17fe6-1ca0-47bc-b3d4-ab873b387bfe",
    "id": "4yPynXuPe9uK",
    "papermill": {
     "duration": 0.015685,
     "end_time": "2025-01-02T22:38:37.428992",
     "exception": false,
     "start_time": "2025-01-02T22:38:37.413307",
     "status": "completed"
    },
    "tags": []
   },
   "source": [
    "## Adding the model and age columns"
   ]
  },
  {
   "cell_type": "code",
   "execution_count": 23,
   "id": "156b1f1f",
   "metadata": {
    "_cell_guid": "95345a65-6af3-437f-a046-e5e3f6860a0a",
    "_uuid": "107d536d-24ff-4442-bac9-f2311258695e",
    "collapsed": false,
    "execution": {
     "iopub.execute_input": "2025-01-02T22:38:37.461843Z",
     "iopub.status.busy": "2025-01-02T22:38:37.461394Z",
     "iopub.status.idle": "2025-01-02T22:38:37.480587Z",
     "shell.execute_reply": "2025-01-02T22:38:37.479211Z"
    },
    "id": "6bP51fXqe9uK",
    "jupyter": {
     "outputs_hidden": false
    },
    "outputId": "540579ab-8fba-461f-e8bc-a8a957c62093",
    "papermill": {
     "duration": 0.037625,
     "end_time": "2025-01-02T22:38:37.482405",
     "exception": false,
     "start_time": "2025-01-02T22:38:37.444780",
     "status": "completed"
    },
    "tags": []
   },
   "outputs": [
    {
     "data": {
      "text/html": [
       "<div>\n",
       "<style scoped>\n",
       "    .dataframe tbody tr th:only-of-type {\n",
       "        vertical-align: middle;\n",
       "    }\n",
       "\n",
       "    .dataframe tbody tr th {\n",
       "        vertical-align: top;\n",
       "    }\n",
       "\n",
       "    .dataframe thead th {\n",
       "        text-align: right;\n",
       "    }\n",
       "</style>\n",
       "<table border=\"1\" class=\"dataframe\">\n",
       "  <thead>\n",
       "    <tr style=\"text-align: right;\">\n",
       "      <th></th>\n",
       "      <th>machineID</th>\n",
       "      <th>model</th>\n",
       "      <th>age</th>\n",
       "    </tr>\n",
       "  </thead>\n",
       "  <tbody>\n",
       "    <tr>\n",
       "      <th>0</th>\n",
       "      <td>1</td>\n",
       "      <td>model3</td>\n",
       "      <td>18</td>\n",
       "    </tr>\n",
       "    <tr>\n",
       "      <th>1</th>\n",
       "      <td>2</td>\n",
       "      <td>model4</td>\n",
       "      <td>7</td>\n",
       "    </tr>\n",
       "    <tr>\n",
       "      <th>2</th>\n",
       "      <td>3</td>\n",
       "      <td>model3</td>\n",
       "      <td>8</td>\n",
       "    </tr>\n",
       "    <tr>\n",
       "      <th>3</th>\n",
       "      <td>4</td>\n",
       "      <td>model3</td>\n",
       "      <td>7</td>\n",
       "    </tr>\n",
       "    <tr>\n",
       "      <th>4</th>\n",
       "      <td>5</td>\n",
       "      <td>model3</td>\n",
       "      <td>2</td>\n",
       "    </tr>\n",
       "  </tbody>\n",
       "</table>\n",
       "</div>"
      ],
      "text/plain": [
       "   machineID   model  age\n",
       "0          1  model3   18\n",
       "1          2  model4    7\n",
       "2          3  model3    8\n",
       "3          4  model3    7\n",
       "4          5  model3    2"
      ]
     },
     "execution_count": 23,
     "metadata": {},
     "output_type": "execute_result"
    }
   ],
   "source": [
    "machine_info = pd.read_csv('/kaggle/input/microsoft-azure-predictive-maintenance/PdM_machines.csv')\n",
    "machine_info.head()"
   ]
  },
  {
   "cell_type": "code",
   "execution_count": 24,
   "id": "0863218e",
   "metadata": {
    "_cell_guid": "8d534b62-59ef-4c44-9ba4-e18ef863757f",
    "_uuid": "c0d8a314-792f-4290-bd57-d1def2ee8194",
    "collapsed": false,
    "execution": {
     "iopub.execute_input": "2025-01-02T22:38:37.516100Z",
     "iopub.status.busy": "2025-01-02T22:38:37.515618Z",
     "iopub.status.idle": "2025-01-02T22:38:37.782577Z",
     "shell.execute_reply": "2025-01-02T22:38:37.781303Z"
    },
    "id": "d9ksw9k2e9uK",
    "jupyter": {
     "outputs_hidden": false
    },
    "outputId": "af9ffac3-bc3c-4c84-837a-d8fc7d1a61be",
    "papermill": {
     "duration": 0.286317,
     "end_time": "2025-01-02T22:38:37.784607",
     "exception": false,
     "start_time": "2025-01-02T22:38:37.498290",
     "status": "completed"
    },
    "tags": []
   },
   "outputs": [
    {
     "data": {
      "text/html": [
       "<div>\n",
       "<style scoped>\n",
       "    .dataframe tbody tr th:only-of-type {\n",
       "        vertical-align: middle;\n",
       "    }\n",
       "\n",
       "    .dataframe tbody tr th {\n",
       "        vertical-align: top;\n",
       "    }\n",
       "\n",
       "    .dataframe thead th {\n",
       "        text-align: right;\n",
       "    }\n",
       "</style>\n",
       "<table border=\"1\" class=\"dataframe\">\n",
       "  <thead>\n",
       "    <tr style=\"text-align: right;\">\n",
       "      <th></th>\n",
       "      <th>machineID</th>\n",
       "      <th>model</th>\n",
       "      <th>age</th>\n",
       "      <th>datetime</th>\n",
       "      <th>volt</th>\n",
       "      <th>rotate</th>\n",
       "      <th>pressure</th>\n",
       "      <th>vibration</th>\n",
       "      <th>failure</th>\n",
       "    </tr>\n",
       "  </thead>\n",
       "  <tbody>\n",
       "    <tr>\n",
       "      <th>0</th>\n",
       "      <td>1</td>\n",
       "      <td>model3</td>\n",
       "      <td>18</td>\n",
       "      <td>2015-01-01 06:00:00</td>\n",
       "      <td>176.217853</td>\n",
       "      <td>418.504078</td>\n",
       "      <td>113.077935</td>\n",
       "      <td>45.087686</td>\n",
       "      <td>No Failure</td>\n",
       "    </tr>\n",
       "    <tr>\n",
       "      <th>1</th>\n",
       "      <td>1</td>\n",
       "      <td>model3</td>\n",
       "      <td>18</td>\n",
       "      <td>2015-01-01 07:00:00</td>\n",
       "      <td>162.879223</td>\n",
       "      <td>402.747490</td>\n",
       "      <td>95.460525</td>\n",
       "      <td>43.413973</td>\n",
       "      <td>No Failure</td>\n",
       "    </tr>\n",
       "    <tr>\n",
       "      <th>2</th>\n",
       "      <td>1</td>\n",
       "      <td>model3</td>\n",
       "      <td>18</td>\n",
       "      <td>2015-01-01 08:00:00</td>\n",
       "      <td>170.989902</td>\n",
       "      <td>527.349825</td>\n",
       "      <td>75.237905</td>\n",
       "      <td>34.178847</td>\n",
       "      <td>No Failure</td>\n",
       "    </tr>\n",
       "    <tr>\n",
       "      <th>3</th>\n",
       "      <td>1</td>\n",
       "      <td>model3</td>\n",
       "      <td>18</td>\n",
       "      <td>2015-01-01 09:00:00</td>\n",
       "      <td>162.462833</td>\n",
       "      <td>346.149335</td>\n",
       "      <td>109.248561</td>\n",
       "      <td>41.122144</td>\n",
       "      <td>No Failure</td>\n",
       "    </tr>\n",
       "    <tr>\n",
       "      <th>4</th>\n",
       "      <td>1</td>\n",
       "      <td>model3</td>\n",
       "      <td>18</td>\n",
       "      <td>2015-01-01 10:00:00</td>\n",
       "      <td>157.610021</td>\n",
       "      <td>435.376873</td>\n",
       "      <td>111.886648</td>\n",
       "      <td>25.990511</td>\n",
       "      <td>No Failure</td>\n",
       "    </tr>\n",
       "  </tbody>\n",
       "</table>\n",
       "</div>"
      ],
      "text/plain": [
       "   machineID   model  age             datetime        volt      rotate  \\\n",
       "0          1  model3   18  2015-01-01 06:00:00  176.217853  418.504078   \n",
       "1          1  model3   18  2015-01-01 07:00:00  162.879223  402.747490   \n",
       "2          1  model3   18  2015-01-01 08:00:00  170.989902  527.349825   \n",
       "3          1  model3   18  2015-01-01 09:00:00  162.462833  346.149335   \n",
       "4          1  model3   18  2015-01-01 10:00:00  157.610021  435.376873   \n",
       "\n",
       "     pressure  vibration     failure  \n",
       "0  113.077935  45.087686  No Failure  \n",
       "1   95.460525  43.413973  No Failure  \n",
       "2   75.237905  34.178847  No Failure  \n",
       "3  109.248561  41.122144  No Failure  \n",
       "4  111.886648  25.990511  No Failure  "
      ]
     },
     "execution_count": 24,
     "metadata": {},
     "output_type": "execute_result"
    }
   ],
   "source": [
    "telemetry_with_failure_df = machine_info.merge(right=telemetry_with_failure_df, on=['machineID'], how='left')\n",
    "telemetry_with_failure_df.head()"
   ]
  },
  {
   "cell_type": "code",
   "execution_count": 25,
   "id": "302ddb16",
   "metadata": {
    "_cell_guid": "32ad671f-e43b-4885-b6b1-a9fef55f002c",
    "_uuid": "7b4eaf2a-aff0-4e44-817d-78029593866a",
    "collapsed": false,
    "execution": {
     "iopub.execute_input": "2025-01-02T22:38:37.818524Z",
     "iopub.status.busy": "2025-01-02T22:38:37.818129Z",
     "iopub.status.idle": "2025-01-02T22:38:37.868631Z",
     "shell.execute_reply": "2025-01-02T22:38:37.867521Z"
    },
    "id": "PKdyX0Tre9uL",
    "jupyter": {
     "outputs_hidden": false
    },
    "outputId": "6a5eebc2-736c-45a2-df0e-378da1d66976",
    "papermill": {
     "duration": 0.069436,
     "end_time": "2025-01-02T22:38:37.870525",
     "exception": false,
     "start_time": "2025-01-02T22:38:37.801089",
     "status": "completed"
    },
    "tags": []
   },
   "outputs": [
    {
     "data": {
      "text/plain": [
       "model\n",
       "model3    306644\n",
       "model4    280363\n",
       "model2    148945\n",
       "model1    140190\n",
       "Name: count, dtype: int64"
      ]
     },
     "execution_count": 25,
     "metadata": {},
     "output_type": "execute_result"
    }
   ],
   "source": [
    "telemetry_with_failure_df['model'].value_counts()"
   ]
  },
  {
   "cell_type": "markdown",
   "id": "5a42b708",
   "metadata": {
    "_cell_guid": "67d0b161-6e95-443d-85bf-aebf2df65acd",
    "_uuid": "3e819e72-560f-42a2-81df-0817794ffa3c",
    "id": "DrREfF1je9uL",
    "papermill": {
     "duration": 0.015595,
     "end_time": "2025-01-02T22:38:37.902598",
     "exception": false,
     "start_time": "2025-01-02T22:38:37.887003",
     "status": "completed"
    },
    "tags": []
   },
   "source": [
    "## Datetime column type casting"
   ]
  },
  {
   "cell_type": "code",
   "execution_count": 26,
   "id": "8e6f366c",
   "metadata": {
    "_cell_guid": "538a40f3-dac4-4104-a321-31634a4752cc",
    "_uuid": "ebed2d97-71d8-46ab-85fe-7ae5f7d4050f",
    "collapsed": false,
    "execution": {
     "iopub.execute_input": "2025-01-02T22:38:37.936334Z",
     "iopub.status.busy": "2025-01-02T22:38:37.935929Z",
     "iopub.status.idle": "2025-01-02T22:38:37.941169Z",
     "shell.execute_reply": "2025-01-02T22:38:37.940033Z"
    },
    "id": "X6IzQduGe9uL",
    "jupyter": {
     "outputs_hidden": false
    },
    "papermill": {
     "duration": 0.024317,
     "end_time": "2025-01-02T22:38:37.942911",
     "exception": false,
     "start_time": "2025-01-02T22:38:37.918594",
     "status": "completed"
    },
    "tags": []
   },
   "outputs": [],
   "source": [
    "def strToDatetime(date_array, format):\n",
    "    new_datetime = list()\n",
    "    for date in date_array:\n",
    "        new_datetime.append(datetime.datetime.strptime(date, format))\n",
    "    return new_datetime"
   ]
  },
  {
   "cell_type": "code",
   "execution_count": 27,
   "id": "df578fcc",
   "metadata": {
    "_cell_guid": "1fd9e33d-c6d2-4264-94f6-2912b024df20",
    "_uuid": "df6788ea-aa9a-4ae6-b3bc-04b65f2b9adb",
    "collapsed": false,
    "execution": {
     "iopub.execute_input": "2025-01-02T22:38:37.977364Z",
     "iopub.status.busy": "2025-01-02T22:38:37.976946Z",
     "iopub.status.idle": "2025-01-02T22:38:45.787866Z",
     "shell.execute_reply": "2025-01-02T22:38:45.786736Z"
    },
    "id": "2uD8vzZAe9uL",
    "jupyter": {
     "outputs_hidden": false
    },
    "papermill": {
     "duration": 7.829789,
     "end_time": "2025-01-02T22:38:45.789887",
     "exception": false,
     "start_time": "2025-01-02T22:38:37.960098",
     "status": "completed"
    },
    "tags": []
   },
   "outputs": [],
   "source": [
    "datetime_column = strToDatetime(telemetry_with_failure_df['datetime'], '%Y-%m-%d %H:%M:%S')"
   ]
  },
  {
   "cell_type": "code",
   "execution_count": 28,
   "id": "b31f2ce1",
   "metadata": {
    "_cell_guid": "20fec74d-ec2e-4c8f-913c-7986ed1cd75f",
    "_uuid": "18e9b433-04a6-4442-a486-c2b7b70cd35d",
    "collapsed": false,
    "execution": {
     "iopub.execute_input": "2025-01-02T22:38:45.823008Z",
     "iopub.status.busy": "2025-01-02T22:38:45.822626Z",
     "iopub.status.idle": "2025-01-02T22:38:47.752748Z",
     "shell.execute_reply": "2025-01-02T22:38:47.751701Z"
    },
    "id": "-tqtsegie9uM",
    "jupyter": {
     "outputs_hidden": false
    },
    "papermill": {
     "duration": 1.949109,
     "end_time": "2025-01-02T22:38:47.755016",
     "exception": false,
     "start_time": "2025-01-02T22:38:45.805907",
     "status": "completed"
    },
    "tags": []
   },
   "outputs": [],
   "source": [
    "telemetry_with_failure_df['datetime'] = datetime_column"
   ]
  },
  {
   "cell_type": "code",
   "execution_count": 29,
   "id": "de71a3ac",
   "metadata": {
    "execution": {
     "iopub.execute_input": "2025-01-02T22:38:47.789163Z",
     "iopub.status.busy": "2025-01-02T22:38:47.788810Z",
     "iopub.status.idle": "2025-01-02T22:38:47.799402Z",
     "shell.execute_reply": "2025-01-02T22:38:47.798324Z"
    },
    "papermill": {
     "duration": 0.029501,
     "end_time": "2025-01-02T22:38:47.801057",
     "exception": false,
     "start_time": "2025-01-02T22:38:47.771556",
     "status": "completed"
    },
    "tags": []
   },
   "outputs": [
    {
     "data": {
      "text/plain": [
       "(Timestamp('2015-01-01 06:00:00'), Timestamp('2016-01-01 06:00:00'))"
      ]
     },
     "execution_count": 29,
     "metadata": {},
     "output_type": "execute_result"
    }
   ],
   "source": [
    "telemetry_with_failure_df['datetime'].min(), telemetry_with_failure_df['datetime'].max()"
   ]
  },
  {
   "cell_type": "markdown",
   "id": "6de32a4a",
   "metadata": {
    "_cell_guid": "a1eacf4d-f3ea-4ad8-9b76-d67372666f15",
    "_uuid": "6bd3bdfc-eac9-4a24-9485-ad92849946cc",
    "id": "Vw8jysyre9uM",
    "papermill": {
     "duration": 0.015815,
     "end_time": "2025-01-02T22:38:47.833360",
     "exception": false,
     "start_time": "2025-01-02T22:38:47.817545",
     "status": "completed"
    },
    "tags": []
   },
   "source": [
    "## Time to failure estimation"
   ]
  },
  {
   "cell_type": "code",
   "execution_count": 30,
   "id": "f833c51d",
   "metadata": {
    "_cell_guid": "cc5c7a84-c9fb-49d0-97e7-d3a3d8f199e0",
    "_uuid": "ed6efa7a-ffc4-4c8a-9f65-a9c85a6b2458",
    "collapsed": false,
    "execution": {
     "iopub.execute_input": "2025-01-02T22:38:47.867058Z",
     "iopub.status.busy": "2025-01-02T22:38:47.866633Z",
     "iopub.status.idle": "2025-01-02T22:38:47.872717Z",
     "shell.execute_reply": "2025-01-02T22:38:47.871820Z"
    },
    "id": "Wm0omhege9uM",
    "jupyter": {
     "outputs_hidden": false
    },
    "outputId": "f63148c1-6545-47f8-8108-e637b6c1f873",
    "papermill": {
     "duration": 0.025158,
     "end_time": "2025-01-02T22:38:47.874712",
     "exception": false,
     "start_time": "2025-01-02T22:38:47.849554",
     "status": "completed"
    },
    "tags": []
   },
   "outputs": [
    {
     "data": {
      "text/plain": [
       "100"
      ]
     },
     "execution_count": 30,
     "metadata": {},
     "output_type": "execute_result"
    }
   ],
   "source": [
    "machine_ids = np.arange(1, 101)\n",
    "len(machine_ids)"
   ]
  },
  {
   "cell_type": "markdown",
   "id": "b1f13254",
   "metadata": {
    "_cell_guid": "ddb11a45-9f59-40f4-997f-9af33618112f",
    "_uuid": "c98fc503-da26-4b9b-9d01-57f7b4498259",
    "id": "8BlYZj1Qe9uM",
    "papermill": {
     "duration": 0.01562,
     "end_time": "2025-01-02T22:38:47.906928",
     "exception": false,
     "start_time": "2025-01-02T22:38:47.891308",
     "status": "completed"
    },
    "tags": []
   },
   "source": [
    "### Seconds estimation"
   ]
  },
  {
   "cell_type": "code",
   "execution_count": 31,
   "id": "6f191ab4",
   "metadata": {
    "_cell_guid": "4445edfe-99bf-413d-8fa3-802369b84b6c",
    "_uuid": "7f980889-7f7c-432b-9b45-b7325a3cecc1",
    "collapsed": false,
    "execution": {
     "iopub.execute_input": "2025-01-02T22:38:47.940313Z",
     "iopub.status.busy": "2025-01-02T22:38:47.939971Z",
     "iopub.status.idle": "2025-01-02T22:38:47.956857Z",
     "shell.execute_reply": "2025-01-02T22:38:47.955687Z"
    },
    "id": "Z80Zycuoe9uM",
    "jupyter": {
     "outputs_hidden": false
    },
    "papermill": {
     "duration": 0.035801,
     "end_time": "2025-01-02T22:38:47.958335",
     "exception": false,
     "start_time": "2025-01-02T22:38:47.922534",
     "status": "completed"
    },
    "tags": []
   },
   "outputs": [],
   "source": [
    "def hours_estimation(machine_id):\n",
    "    df = telemetry_with_failure_df[telemetry_with_failure_df['machineID'] == machine_id]\n",
    "    df.reset_index(drop=True, inplace=True)\n",
    "    rul = []\n",
    "    cont = len(df['failure']) - 1\n",
    "    diff = 0\n",
    "    while cont >= df.index.min():\n",
    "        if df['failure'][cont] == 'No Failure':\n",
    "            diff = diff + 1\n",
    "            rul.append(diff)\n",
    "        else:\n",
    "            rul.append(0)\n",
    "            diff = 0\n",
    "        diff = rul[-1]\n",
    "        cont = cont - 1\n",
    "    df['hours_to_fail'] = list(reversed(rul))\n",
    "    return df"
   ]
  },
  {
   "cell_type": "code",
   "execution_count": 32,
   "id": "a60b4489",
   "metadata": {
    "_cell_guid": "203da2fa-56c5-4b5c-9267-11a20e069452",
    "_uuid": "ea839a77-3138-43de-9aac-b2a34d134822",
    "collapsed": false,
    "execution": {
     "iopub.execute_input": "2025-01-02T22:38:47.992016Z",
     "iopub.status.busy": "2025-01-02T22:38:47.991544Z",
     "iopub.status.idle": "2025-01-02T22:38:54.630227Z",
     "shell.execute_reply": "2025-01-02T22:38:54.629047Z"
    },
    "id": "ufxB_EpIe9uM",
    "jupyter": {
     "outputs_hidden": false
    },
    "papermill": {
     "duration": 6.657975,
     "end_time": "2025-01-02T22:38:54.632409",
     "exception": false,
     "start_time": "2025-01-02T22:38:47.974434",
     "status": "completed"
    },
    "tags": []
   },
   "outputs": [],
   "source": [
    "dfs = []\n",
    "for machine_id in machine_ids:\n",
    "    df = hours_estimation(machine_id)\n",
    "    dfs.append(df)"
   ]
  },
  {
   "cell_type": "code",
   "execution_count": 33,
   "id": "bb62a418",
   "metadata": {
    "_cell_guid": "ed6da9dc-26f7-4a03-8319-d0a0eb978284",
    "_uuid": "016e78e5-987b-44f2-aa27-7fea2949b118",
    "collapsed": false,
    "execution": {
     "iopub.execute_input": "2025-01-02T22:38:54.667304Z",
     "iopub.status.busy": "2025-01-02T22:38:54.666896Z",
     "iopub.status.idle": "2025-01-02T22:38:55.940432Z",
     "shell.execute_reply": "2025-01-02T22:38:55.939290Z"
    },
    "id": "1A_Lya0pe9uN",
    "jupyter": {
     "outputs_hidden": false
    },
    "papermill": {
     "duration": 1.293374,
     "end_time": "2025-01-02T22:38:55.942642",
     "exception": false,
     "start_time": "2025-01-02T22:38:54.649268",
     "status": "completed"
    },
    "tags": []
   },
   "outputs": [],
   "source": [
    "telemetry = pd.DataFrame()\n",
    "for df in dfs:\n",
    "    telemetry = pd.concat([telemetry, df], axis=0)"
   ]
  },
  {
   "cell_type": "code",
   "execution_count": 34,
   "id": "0144e084",
   "metadata": {
    "_cell_guid": "07c21d7a-f8d5-421f-b83c-966151d8c008",
    "_uuid": "8ba2afd4-4fe7-440d-9d38-010973e92ece",
    "collapsed": false,
    "execution": {
     "iopub.execute_input": "2025-01-02T22:38:55.978490Z",
     "iopub.status.busy": "2025-01-02T22:38:55.978083Z",
     "iopub.status.idle": "2025-01-02T22:38:55.984527Z",
     "shell.execute_reply": "2025-01-02T22:38:55.983228Z"
    },
    "id": "xkWyVGXoe9uN",
    "jupyter": {
     "outputs_hidden": false
    },
    "outputId": "b3b401b6-60d7-4615-8ca1-3cdd23374ff1",
    "papermill": {
     "duration": 0.026014,
     "end_time": "2025-01-02T22:38:55.986201",
     "exception": false,
     "start_time": "2025-01-02T22:38:55.960187",
     "status": "completed"
    },
    "tags": []
   },
   "outputs": [
    {
     "name": "stdout",
     "output_type": "stream",
     "text": [
      "876142 876142\n"
     ]
    }
   ],
   "source": [
    "print(telemetry.shape[0], telemetry_with_failure_df.shape[0])"
   ]
  },
  {
   "cell_type": "code",
   "execution_count": 35,
   "id": "a3f6fc6c",
   "metadata": {
    "_cell_guid": "9705f7d8-6de3-4284-952e-ea906f6bdc5c",
    "_uuid": "5ebdfd12-f90e-4050-92af-e0c00f523329",
    "collapsed": false,
    "execution": {
     "iopub.execute_input": "2025-01-02T22:38:56.022199Z",
     "iopub.status.busy": "2025-01-02T22:38:56.021779Z",
     "iopub.status.idle": "2025-01-02T22:38:56.081242Z",
     "shell.execute_reply": "2025-01-02T22:38:56.080035Z"
    },
    "id": "_dBEB2nHe9uN",
    "jupyter": {
     "outputs_hidden": false
    },
    "outputId": "3a8078f3-9c96-475f-c1c6-11b033e1b6ef",
    "papermill": {
     "duration": 0.079525,
     "end_time": "2025-01-02T22:38:56.082932",
     "exception": false,
     "start_time": "2025-01-02T22:38:56.003407",
     "status": "completed"
    },
    "tags": []
   },
   "outputs": [
    {
     "data": {
      "text/html": [
       "<div>\n",
       "<style scoped>\n",
       "    .dataframe tbody tr th:only-of-type {\n",
       "        vertical-align: middle;\n",
       "    }\n",
       "\n",
       "    .dataframe tbody tr th {\n",
       "        vertical-align: top;\n",
       "    }\n",
       "\n",
       "    .dataframe thead th {\n",
       "        text-align: right;\n",
       "    }\n",
       "</style>\n",
       "<table border=\"1\" class=\"dataframe\">\n",
       "  <thead>\n",
       "    <tr style=\"text-align: right;\">\n",
       "      <th></th>\n",
       "      <th>machineID</th>\n",
       "      <th>model</th>\n",
       "      <th>age</th>\n",
       "      <th>datetime</th>\n",
       "      <th>volt</th>\n",
       "      <th>rotate</th>\n",
       "      <th>pressure</th>\n",
       "      <th>vibration</th>\n",
       "      <th>failure</th>\n",
       "      <th>seconds_to_fail</th>\n",
       "    </tr>\n",
       "  </thead>\n",
       "  <tbody>\n",
       "    <tr>\n",
       "      <th>0</th>\n",
       "      <td>1</td>\n",
       "      <td>model3</td>\n",
       "      <td>18</td>\n",
       "      <td>2015-01-01 06:00:00</td>\n",
       "      <td>176.217853</td>\n",
       "      <td>418.504078</td>\n",
       "      <td>113.077935</td>\n",
       "      <td>45.087686</td>\n",
       "      <td>No Failure</td>\n",
       "      <td>345600</td>\n",
       "    </tr>\n",
       "    <tr>\n",
       "      <th>1</th>\n",
       "      <td>1</td>\n",
       "      <td>model3</td>\n",
       "      <td>18</td>\n",
       "      <td>2015-01-01 07:00:00</td>\n",
       "      <td>162.879223</td>\n",
       "      <td>402.747490</td>\n",
       "      <td>95.460525</td>\n",
       "      <td>43.413973</td>\n",
       "      <td>No Failure</td>\n",
       "      <td>342000</td>\n",
       "    </tr>\n",
       "    <tr>\n",
       "      <th>2</th>\n",
       "      <td>1</td>\n",
       "      <td>model3</td>\n",
       "      <td>18</td>\n",
       "      <td>2015-01-01 08:00:00</td>\n",
       "      <td>170.989902</td>\n",
       "      <td>527.349825</td>\n",
       "      <td>75.237905</td>\n",
       "      <td>34.178847</td>\n",
       "      <td>No Failure</td>\n",
       "      <td>338400</td>\n",
       "    </tr>\n",
       "    <tr>\n",
       "      <th>3</th>\n",
       "      <td>1</td>\n",
       "      <td>model3</td>\n",
       "      <td>18</td>\n",
       "      <td>2015-01-01 09:00:00</td>\n",
       "      <td>162.462833</td>\n",
       "      <td>346.149335</td>\n",
       "      <td>109.248561</td>\n",
       "      <td>41.122144</td>\n",
       "      <td>No Failure</td>\n",
       "      <td>334800</td>\n",
       "    </tr>\n",
       "    <tr>\n",
       "      <th>4</th>\n",
       "      <td>1</td>\n",
       "      <td>model3</td>\n",
       "      <td>18</td>\n",
       "      <td>2015-01-01 10:00:00</td>\n",
       "      <td>157.610021</td>\n",
       "      <td>435.376873</td>\n",
       "      <td>111.886648</td>\n",
       "      <td>25.990511</td>\n",
       "      <td>No Failure</td>\n",
       "      <td>331200</td>\n",
       "    </tr>\n",
       "  </tbody>\n",
       "</table>\n",
       "</div>"
      ],
      "text/plain": [
       "   machineID   model  age            datetime        volt      rotate  \\\n",
       "0          1  model3   18 2015-01-01 06:00:00  176.217853  418.504078   \n",
       "1          1  model3   18 2015-01-01 07:00:00  162.879223  402.747490   \n",
       "2          1  model3   18 2015-01-01 08:00:00  170.989902  527.349825   \n",
       "3          1  model3   18 2015-01-01 09:00:00  162.462833  346.149335   \n",
       "4          1  model3   18 2015-01-01 10:00:00  157.610021  435.376873   \n",
       "\n",
       "     pressure  vibration     failure  seconds_to_fail  \n",
       "0  113.077935  45.087686  No Failure           345600  \n",
       "1   95.460525  43.413973  No Failure           342000  \n",
       "2   75.237905  34.178847  No Failure           338400  \n",
       "3  109.248561  41.122144  No Failure           334800  \n",
       "4  111.886648  25.990511  No Failure           331200  "
      ]
     },
     "execution_count": 35,
     "metadata": {},
     "output_type": "execute_result"
    }
   ],
   "source": [
    "telemetry['seconds_to_fail'] = telemetry['hours_to_fail'] * 3600\n",
    "telemetry.drop('hours_to_fail', axis=1, inplace=True)\n",
    "telemetry.head()"
   ]
  },
  {
   "cell_type": "code",
   "execution_count": 36,
   "id": "05660036",
   "metadata": {
    "_cell_guid": "5711c439-3055-422b-b8b5-32e7656efabe",
    "_uuid": "9cc1314c-3d10-49e7-96a6-a56c72e7e596",
    "collapsed": false,
    "execution": {
     "iopub.execute_input": "2025-01-02T22:38:56.117706Z",
     "iopub.status.busy": "2025-01-02T22:38:56.117306Z",
     "iopub.status.idle": "2025-01-02T22:38:56.870439Z",
     "shell.execute_reply": "2025-01-02T22:38:56.869146Z"
    },
    "id": "DBy6-ZGse9uN",
    "jupyter": {
     "outputs_hidden": false
    },
    "outputId": "e2c3f96c-5a2f-431e-bf62-99f32accdb75",
    "papermill": {
     "duration": 0.773205,
     "end_time": "2025-01-02T22:38:56.872837",
     "exception": false,
     "start_time": "2025-01-02T22:38:56.099632",
     "status": "completed"
    },
    "tags": []
   },
   "outputs": [
    {
     "data": {
      "image/png": "[encoded data removed]",
      "text/plain": [
       "<Figure size 1200x900 with 2 Axes>"
      ]
     },
     "metadata": {},
     "output_type": "display_data"
    }
   ],
   "source": [
    "sns.heatmap(telemetry.drop(['machineID', 'model', 'failure'], axis = 1).corr(), annot=True).figure.set_size_inches(12, 9)"
   ]
  },
  {
   "cell_type": "code",
   "execution_count": 37,
   "id": "2b9870e3",
   "metadata": {
    "execution": {
     "iopub.execute_input": "2025-01-02T22:38:56.910976Z",
     "iopub.status.busy": "2025-01-02T22:38:56.910532Z",
     "iopub.status.idle": "2025-01-02T22:38:56.917275Z",
     "shell.execute_reply": "2025-01-02T22:38:56.916327Z"
    },
    "papermill": {
     "duration": 0.027379,
     "end_time": "2025-01-02T22:38:56.918985",
     "exception": false,
     "start_time": "2025-01-02T22:38:56.891606",
     "status": "completed"
    },
    "tags": []
   },
   "outputs": [
    {
     "data": {
      "text/plain": [
       "Index(['machineID', 'model', 'age', 'datetime', 'volt', 'rotate', 'pressure',\n",
       "       'vibration', 'failure', 'seconds_to_fail'],\n",
       "      dtype='object')"
      ]
     },
     "execution_count": 37,
     "metadata": {},
     "output_type": "execute_result"
    }
   ],
   "source": [
    "telemetry.columns"
   ]
  },
  {
   "cell_type": "markdown",
   "id": "e01608b1",
   "metadata": {
    "_cell_guid": "a5bcd87d-3344-4064-80fd-e816f417483b",
    "_uuid": "69ed8cde-2888-4245-b8c7-2ea35317dc4f",
    "id": "TddXL7Fxe9uN",
    "papermill": {
     "duration": 0.017898,
     "end_time": "2025-01-02T22:38:56.955228",
     "exception": false,
     "start_time": "2025-01-02T22:38:56.937330",
     "status": "completed"
    },
    "tags": []
   },
   "source": [
    "## Datetime conversion to timestamp"
   ]
  },
  {
   "cell_type": "code",
   "execution_count": 38,
   "id": "870d7a8f",
   "metadata": {
    "_cell_guid": "ce61e669-cb7b-4d90-8f5b-2e0b69c416e7",
    "_uuid": "5046913b-a124-470f-88c4-87f1dff69c24",
    "collapsed": false,
    "execution": {
     "iopub.execute_input": "2025-01-02T22:38:56.993270Z",
     "iopub.status.busy": "2025-01-02T22:38:56.992857Z",
     "iopub.status.idle": "2025-01-02T22:38:59.556598Z",
     "shell.execute_reply": "2025-01-02T22:38:59.555304Z"
    },
    "id": "RahKTmW-e9uN",
    "jupyter": {
     "outputs_hidden": false
    },
    "outputId": "2b61057e-7511-4310-ea9d-a7a113c43ff4",
    "papermill": {
     "duration": 2.584887,
     "end_time": "2025-01-02T22:38:59.558257",
     "exception": false,
     "start_time": "2025-01-02T22:38:56.973370",
     "status": "completed"
    },
    "tags": []
   },
   "outputs": [
    {
     "data": {
      "text/plain": [
       "(876142, 876142)"
      ]
     },
     "execution_count": 38,
     "metadata": {},
     "output_type": "execute_result"
    }
   ],
   "source": [
    "datetimes = telemetry['datetime']\n",
    "timestamps = list()\n",
    "for datetime_ in datetimes:\n",
    "    timestamps.append(datetime.datetime.timestamp(datetime_))    \n",
    "datetimes.shape[0], len(timestamps)"
   ]
  },
  {
   "cell_type": "code",
   "execution_count": 39,
   "id": "e63e7949",
   "metadata": {
    "_cell_guid": "f0595ab5-0d15-4352-a6a1-215a4f1bfb2e",
    "_uuid": "c92ff878-37b7-4efe-b311-d6999d93a5f9",
    "collapsed": false,
    "execution": {
     "iopub.execute_input": "2025-01-02T22:38:59.596063Z",
     "iopub.status.busy": "2025-01-02T22:38:59.595666Z",
     "iopub.status.idle": "2025-01-02T22:38:59.677224Z",
     "shell.execute_reply": "2025-01-02T22:38:59.676063Z"
    },
    "id": "jRw5CiwXe9uO",
    "jupyter": {
     "outputs_hidden": false
    },
    "outputId": "ec705219-ac27-4970-d6f3-efece27b8f08",
    "papermill": {
     "duration": 0.102293,
     "end_time": "2025-01-02T22:38:59.678962",
     "exception": false,
     "start_time": "2025-01-02T22:38:59.576669",
     "status": "completed"
    },
    "tags": []
   },
   "outputs": [
    {
     "data": {
      "text/html": [
       "<div>\n",
       "<style scoped>\n",
       "    .dataframe tbody tr th:only-of-type {\n",
       "        vertical-align: middle;\n",
       "    }\n",
       "\n",
       "    .dataframe tbody tr th {\n",
       "        vertical-align: top;\n",
       "    }\n",
       "\n",
       "    .dataframe thead th {\n",
       "        text-align: right;\n",
       "    }\n",
       "</style>\n",
       "<table border=\"1\" class=\"dataframe\">\n",
       "  <thead>\n",
       "    <tr style=\"text-align: right;\">\n",
       "      <th></th>\n",
       "      <th>machineID</th>\n",
       "      <th>model</th>\n",
       "      <th>age</th>\n",
       "      <th>datetime</th>\n",
       "      <th>volt</th>\n",
       "      <th>rotate</th>\n",
       "      <th>pressure</th>\n",
       "      <th>vibration</th>\n",
       "      <th>failure</th>\n",
       "      <th>seconds_to_fail</th>\n",
       "      <th>timestamp</th>\n",
       "    </tr>\n",
       "  </thead>\n",
       "  <tbody>\n",
       "    <tr>\n",
       "      <th>0</th>\n",
       "      <td>1</td>\n",
       "      <td>model3</td>\n",
       "      <td>18</td>\n",
       "      <td>2015-01-01 06:00:00</td>\n",
       "      <td>176.217853</td>\n",
       "      <td>418.504078</td>\n",
       "      <td>113.077935</td>\n",
       "      <td>45.087686</td>\n",
       "      <td>No Failure</td>\n",
       "      <td>345600</td>\n",
       "      <td>1.420092e+09</td>\n",
       "    </tr>\n",
       "    <tr>\n",
       "      <th>1</th>\n",
       "      <td>1</td>\n",
       "      <td>model3</td>\n",
       "      <td>18</td>\n",
       "      <td>2015-01-01 07:00:00</td>\n",
       "      <td>162.879223</td>\n",
       "      <td>402.747490</td>\n",
       "      <td>95.460525</td>\n",
       "      <td>43.413973</td>\n",
       "      <td>No Failure</td>\n",
       "      <td>342000</td>\n",
       "      <td>1.420096e+09</td>\n",
       "    </tr>\n",
       "    <tr>\n",
       "      <th>2</th>\n",
       "      <td>1</td>\n",
       "      <td>model3</td>\n",
       "      <td>18</td>\n",
       "      <td>2015-01-01 08:00:00</td>\n",
       "      <td>170.989902</td>\n",
       "      <td>527.349825</td>\n",
       "      <td>75.237905</td>\n",
       "      <td>34.178847</td>\n",
       "      <td>No Failure</td>\n",
       "      <td>338400</td>\n",
       "      <td>1.420099e+09</td>\n",
       "    </tr>\n",
       "    <tr>\n",
       "      <th>3</th>\n",
       "      <td>1</td>\n",
       "      <td>model3</td>\n",
       "      <td>18</td>\n",
       "      <td>2015-01-01 09:00:00</td>\n",
       "      <td>162.462833</td>\n",
       "      <td>346.149335</td>\n",
       "      <td>109.248561</td>\n",
       "      <td>41.122144</td>\n",
       "      <td>No Failure</td>\n",
       "      <td>334800</td>\n",
       "      <td>1.420103e+09</td>\n",
       "    </tr>\n",
       "    <tr>\n",
       "      <th>4</th>\n",
       "      <td>1</td>\n",
       "      <td>model3</td>\n",
       "      <td>18</td>\n",
       "      <td>2015-01-01 10:00:00</td>\n",
       "      <td>157.610021</td>\n",
       "      <td>435.376873</td>\n",
       "      <td>111.886648</td>\n",
       "      <td>25.990511</td>\n",
       "      <td>No Failure</td>\n",
       "      <td>331200</td>\n",
       "      <td>1.420106e+09</td>\n",
       "    </tr>\n",
       "    <tr>\n",
       "      <th>...</th>\n",
       "      <td>...</td>\n",
       "      <td>...</td>\n",
       "      <td>...</td>\n",
       "      <td>...</td>\n",
       "      <td>...</td>\n",
       "      <td>...</td>\n",
       "      <td>...</td>\n",
       "      <td>...</td>\n",
       "      <td>...</td>\n",
       "      <td>...</td>\n",
       "      <td>...</td>\n",
       "    </tr>\n",
       "    <tr>\n",
       "      <th>8756</th>\n",
       "      <td>100</td>\n",
       "      <td>model4</td>\n",
       "      <td>5</td>\n",
       "      <td>2016-01-01 02:00:00</td>\n",
       "      <td>179.438162</td>\n",
       "      <td>395.222827</td>\n",
       "      <td>102.290715</td>\n",
       "      <td>50.771941</td>\n",
       "      <td>No Failure</td>\n",
       "      <td>18000</td>\n",
       "      <td>1.451614e+09</td>\n",
       "    </tr>\n",
       "    <tr>\n",
       "      <th>8757</th>\n",
       "      <td>100</td>\n",
       "      <td>model4</td>\n",
       "      <td>5</td>\n",
       "      <td>2016-01-01 03:00:00</td>\n",
       "      <td>189.617555</td>\n",
       "      <td>446.207972</td>\n",
       "      <td>98.180607</td>\n",
       "      <td>35.123072</td>\n",
       "      <td>No Failure</td>\n",
       "      <td>14400</td>\n",
       "      <td>1.451617e+09</td>\n",
       "    </tr>\n",
       "    <tr>\n",
       "      <th>8758</th>\n",
       "      <td>100</td>\n",
       "      <td>model4</td>\n",
       "      <td>5</td>\n",
       "      <td>2016-01-01 04:00:00</td>\n",
       "      <td>192.483414</td>\n",
       "      <td>447.816524</td>\n",
       "      <td>94.132837</td>\n",
       "      <td>48.314561</td>\n",
       "      <td>No Failure</td>\n",
       "      <td>10800</td>\n",
       "      <td>1.451621e+09</td>\n",
       "    </tr>\n",
       "    <tr>\n",
       "      <th>8759</th>\n",
       "      <td>100</td>\n",
       "      <td>model4</td>\n",
       "      <td>5</td>\n",
       "      <td>2016-01-01 05:00:00</td>\n",
       "      <td>165.475310</td>\n",
       "      <td>413.771670</td>\n",
       "      <td>104.081073</td>\n",
       "      <td>44.835259</td>\n",
       "      <td>No Failure</td>\n",
       "      <td>7200</td>\n",
       "      <td>1.451624e+09</td>\n",
       "    </tr>\n",
       "    <tr>\n",
       "      <th>8760</th>\n",
       "      <td>100</td>\n",
       "      <td>model4</td>\n",
       "      <td>5</td>\n",
       "      <td>2016-01-01 06:00:00</td>\n",
       "      <td>171.336037</td>\n",
       "      <td>496.096870</td>\n",
       "      <td>79.095538</td>\n",
       "      <td>37.845245</td>\n",
       "      <td>No Failure</td>\n",
       "      <td>3600</td>\n",
       "      <td>1.451628e+09</td>\n",
       "    </tr>\n",
       "  </tbody>\n",
       "</table>\n",
       "<p>876142 rows × 11 columns</p>\n",
       "</div>"
      ],
      "text/plain": [
       "      machineID   model  age            datetime        volt      rotate  \\\n",
       "0             1  model3   18 2015-01-01 06:00:00  176.217853  418.504078   \n",
       "1             1  model3   18 2015-01-01 07:00:00  162.879223  402.747490   \n",
       "2             1  model3   18 2015-01-01 08:00:00  170.989902  527.349825   \n",
       "3             1  model3   18 2015-01-01 09:00:00  162.462833  346.149335   \n",
       "4             1  model3   18 2015-01-01 10:00:00  157.610021  435.376873   \n",
       "...         ...     ...  ...                 ...         ...         ...   \n",
       "8756        100  model4    5 2016-01-01 02:00:00  179.438162  395.222827   \n",
       "8757        100  model4    5 2016-01-01 03:00:00  189.617555  446.207972   \n",
       "8758        100  model4    5 2016-01-01 04:00:00  192.483414  447.816524   \n",
       "8759        100  model4    5 2016-01-01 05:00:00  165.475310  413.771670   \n",
       "8760        100  model4    5 2016-01-01 06:00:00  171.336037  496.096870   \n",
       "\n",
       "        pressure  vibration     failure  seconds_to_fail     timestamp  \n",
       "0     113.077935  45.087686  No Failure           345600  1.420092e+09  \n",
       "1      95.460525  43.413973  No Failure           342000  1.420096e+09  \n",
       "2      75.237905  34.178847  No Failure           338400  1.420099e+09  \n",
       "3     109.248561  41.122144  No Failure           334800  1.420103e+09  \n",
       "4     111.886648  25.990511  No Failure           331200  1.420106e+09  \n",
       "...          ...        ...         ...              ...           ...  \n",
       "8756  102.290715  50.771941  No Failure            18000  1.451614e+09  \n",
       "8757   98.180607  35.123072  No Failure            14400  1.451617e+09  \n",
       "8758   94.132837  48.314561  No Failure            10800  1.451621e+09  \n",
       "8759  104.081073  44.835259  No Failure             7200  1.451624e+09  \n",
       "8760   79.095538  37.845245  No Failure             3600  1.451628e+09  \n",
       "\n",
       "[876142 rows x 11 columns]"
      ]
     },
     "execution_count": 39,
     "metadata": {},
     "output_type": "execute_result"
    }
   ],
   "source": [
    "telemetry['timestamp'] = timestamps\n",
    "#telemetry.drop('datetime', axis=1, inplace=True)\n",
    "#telemetry = telemetry[['timestamp', 'machineID', 'model', 'age', 'volt', 'rotate', 'pressure', 'vibration', 'failure', 'seconds_to_fail']]\n",
    "telemetry"
   ]
  },
  {
   "cell_type": "code",
   "execution_count": 40,
   "id": "d3671bb8",
   "metadata": {
    "_cell_guid": "479de736-8dc3-44fd-a240-875af2d42e54",
    "_uuid": "972f8b2b-18b9-4b13-b509-1b40e24df5cf",
    "collapsed": false,
    "execution": {
     "iopub.execute_input": "2025-01-02T22:38:59.718130Z",
     "iopub.status.busy": "2025-01-02T22:38:59.717645Z",
     "iopub.status.idle": "2025-01-02T22:39:00.560313Z",
     "shell.execute_reply": "2025-01-02T22:39:00.559073Z"
    },
    "id": "qce7ni0ae9uO",
    "jupyter": {
     "outputs_hidden": false
    },
    "outputId": "3f3db857-5460-46e0-f4a8-5b09673237ce",
    "papermill": {
     "duration": 0.86392,
     "end_time": "2025-01-02T22:39:00.562067",
     "exception": false,
     "start_time": "2025-01-02T22:38:59.698147",
     "status": "completed"
    },
    "tags": []
   },
   "outputs": [
    {
     "data": {
      "image/png": "[encoded data removed]",
      "text/plain": [
       "<Figure size 1200x900 with 1 Axes>"
      ]
     },
     "metadata": {},
     "output_type": "display_data"
    }
   ],
   "source": [
    "sns.boxplot(x=telemetry['model'], y=telemetry['seconds_to_fail'], order=['model1', 'model2', 'model3', 'model4']).figure.set_size_inches(12, 9)"
   ]
  },
  {
   "cell_type": "code",
   "execution_count": 41,
   "id": "55323c90",
   "metadata": {
    "_cell_guid": "cc5a6c58-05c4-4a63-b5a2-35e01bcb7ba1",
    "_uuid": "6bb68629-ea48-49c5-9591-874465edafea",
    "collapsed": false,
    "execution": {
     "iopub.execute_input": "2025-01-02T22:39:00.605239Z",
     "iopub.status.busy": "2025-01-02T22:39:00.604881Z",
     "iopub.status.idle": "2025-01-02T22:39:00.655422Z",
     "shell.execute_reply": "2025-01-02T22:39:00.654339Z"
    },
    "id": "teEmF0JMe9uO",
    "jupyter": {
     "outputs_hidden": false
    },
    "outputId": "78d65057-e540-4e66-e328-d60f8daef5b4",
    "papermill": {
     "duration": 0.075033,
     "end_time": "2025-01-02T22:39:00.657160",
     "exception": false,
     "start_time": "2025-01-02T22:39:00.582127",
     "status": "completed"
    },
    "tags": []
   },
   "outputs": [
    {
     "data": {
      "text/plain": [
       "model\n",
       "model3    306644\n",
       "model4    280363\n",
       "model2    148945\n",
       "model1    140190\n",
       "Name: count, dtype: int64"
      ]
     },
     "execution_count": 41,
     "metadata": {},
     "output_type": "execute_result"
    }
   ],
   "source": [
    "telemetry['model'].value_counts()"
   ]
  },
  {
   "cell_type": "markdown",
   "id": "48131987",
   "metadata": {
    "_cell_guid": "10216682-027f-4666-b935-c060549c0e3f",
    "_uuid": "5201c220-ed4a-414b-a008-5d3f11abcb5f",
    "id": "1g-dDwaMe9uO",
    "papermill": {
     "duration": 0.019377,
     "end_time": "2025-01-02T22:39:00.696476",
     "exception": false,
     "start_time": "2025-01-02T22:39:00.677099",
     "status": "completed"
    },
    "tags": []
   },
   "source": [
    "## Choosing the machine model for the NN"
   ]
  },
  {
   "cell_type": "code",
   "execution_count": 42,
   "id": "2be03e51",
   "metadata": {
    "_cell_guid": "324f0be6-760a-4363-b9f1-4fafae272b4b",
    "_uuid": "dfa864c3-a8c1-430e-a2d1-d02c97b797b3",
    "collapsed": false,
    "execution": {
     "iopub.execute_input": "2025-01-02T22:39:00.737312Z",
     "iopub.status.busy": "2025-01-02T22:39:00.736972Z",
     "iopub.status.idle": "2025-01-02T22:39:00.862212Z",
     "shell.execute_reply": "2025-01-02T22:39:00.861048Z"
    },
    "id": "dLgAIzLUe9uO",
    "jupyter": {
     "outputs_hidden": false
    },
    "outputId": "51bf586d-8f12-49fe-d1dd-6268b010c4ff",
    "papermill": {
     "duration": 0.148011,
     "end_time": "2025-01-02T22:39:00.864003",
     "exception": false,
     "start_time": "2025-01-02T22:39:00.715992",
     "status": "completed"
    },
    "tags": []
   },
   "outputs": [
    {
     "data": {
      "text/html": [
       "<div>\n",
       "<style scoped>\n",
       "    .dataframe tbody tr th:only-of-type {\n",
       "        vertical-align: middle;\n",
       "    }\n",
       "\n",
       "    .dataframe tbody tr th {\n",
       "        vertical-align: top;\n",
       "    }\n",
       "\n",
       "    .dataframe thead th {\n",
       "        text-align: right;\n",
       "    }\n",
       "</style>\n",
       "<table border=\"1\" class=\"dataframe\">\n",
       "  <thead>\n",
       "    <tr style=\"text-align: right;\">\n",
       "      <th></th>\n",
       "      <th>machineID</th>\n",
       "      <th>model</th>\n",
       "      <th>age</th>\n",
       "      <th>datetime</th>\n",
       "      <th>volt</th>\n",
       "      <th>rotate</th>\n",
       "      <th>pressure</th>\n",
       "      <th>vibration</th>\n",
       "      <th>failure</th>\n",
       "      <th>seconds_to_fail</th>\n",
       "      <th>timestamp</th>\n",
       "    </tr>\n",
       "  </thead>\n",
       "  <tbody>\n",
       "    <tr>\n",
       "      <th>0</th>\n",
       "      <td>1</td>\n",
       "      <td>model3</td>\n",
       "      <td>18</td>\n",
       "      <td>2015-01-01 06:00:00</td>\n",
       "      <td>176.217853</td>\n",
       "      <td>418.504078</td>\n",
       "      <td>113.077935</td>\n",
       "      <td>45.087686</td>\n",
       "      <td>No Failure</td>\n",
       "      <td>345600</td>\n",
       "      <td>1.420092e+09</td>\n",
       "    </tr>\n",
       "    <tr>\n",
       "      <th>1</th>\n",
       "      <td>1</td>\n",
       "      <td>model3</td>\n",
       "      <td>18</td>\n",
       "      <td>2015-01-01 07:00:00</td>\n",
       "      <td>162.879223</td>\n",
       "      <td>402.747490</td>\n",
       "      <td>95.460525</td>\n",
       "      <td>43.413973</td>\n",
       "      <td>No Failure</td>\n",
       "      <td>342000</td>\n",
       "      <td>1.420096e+09</td>\n",
       "    </tr>\n",
       "    <tr>\n",
       "      <th>2</th>\n",
       "      <td>1</td>\n",
       "      <td>model3</td>\n",
       "      <td>18</td>\n",
       "      <td>2015-01-01 08:00:00</td>\n",
       "      <td>170.989902</td>\n",
       "      <td>527.349825</td>\n",
       "      <td>75.237905</td>\n",
       "      <td>34.178847</td>\n",
       "      <td>No Failure</td>\n",
       "      <td>338400</td>\n",
       "      <td>1.420099e+09</td>\n",
       "    </tr>\n",
       "    <tr>\n",
       "      <th>3</th>\n",
       "      <td>1</td>\n",
       "      <td>model3</td>\n",
       "      <td>18</td>\n",
       "      <td>2015-01-01 09:00:00</td>\n",
       "      <td>162.462833</td>\n",
       "      <td>346.149335</td>\n",
       "      <td>109.248561</td>\n",
       "      <td>41.122144</td>\n",
       "      <td>No Failure</td>\n",
       "      <td>334800</td>\n",
       "      <td>1.420103e+09</td>\n",
       "    </tr>\n",
       "    <tr>\n",
       "      <th>4</th>\n",
       "      <td>1</td>\n",
       "      <td>model3</td>\n",
       "      <td>18</td>\n",
       "      <td>2015-01-01 10:00:00</td>\n",
       "      <td>157.610021</td>\n",
       "      <td>435.376873</td>\n",
       "      <td>111.886648</td>\n",
       "      <td>25.990511</td>\n",
       "      <td>No Failure</td>\n",
       "      <td>331200</td>\n",
       "      <td>1.420106e+09</td>\n",
       "    </tr>\n",
       "    <tr>\n",
       "      <th>...</th>\n",
       "      <td>...</td>\n",
       "      <td>...</td>\n",
       "      <td>...</td>\n",
       "      <td>...</td>\n",
       "      <td>...</td>\n",
       "      <td>...</td>\n",
       "      <td>...</td>\n",
       "      <td>...</td>\n",
       "      <td>...</td>\n",
       "      <td>...</td>\n",
       "      <td>...</td>\n",
       "    </tr>\n",
       "    <tr>\n",
       "      <th>306639</th>\n",
       "      <td>93</td>\n",
       "      <td>model3</td>\n",
       "      <td>18</td>\n",
       "      <td>2016-01-01 02:00:00</td>\n",
       "      <td>202.858467</td>\n",
       "      <td>412.870855</td>\n",
       "      <td>85.569847</td>\n",
       "      <td>47.701614</td>\n",
       "      <td>No Failure</td>\n",
       "      <td>18000</td>\n",
       "      <td>1.451614e+09</td>\n",
       "    </tr>\n",
       "    <tr>\n",
       "      <th>306640</th>\n",
       "      <td>93</td>\n",
       "      <td>model3</td>\n",
       "      <td>18</td>\n",
       "      <td>2016-01-01 03:00:00</td>\n",
       "      <td>171.364527</td>\n",
       "      <td>459.880473</td>\n",
       "      <td>94.316793</td>\n",
       "      <td>47.592136</td>\n",
       "      <td>No Failure</td>\n",
       "      <td>14400</td>\n",
       "      <td>1.451617e+09</td>\n",
       "    </tr>\n",
       "    <tr>\n",
       "      <th>306641</th>\n",
       "      <td>93</td>\n",
       "      <td>model3</td>\n",
       "      <td>18</td>\n",
       "      <td>2016-01-01 04:00:00</td>\n",
       "      <td>182.867119</td>\n",
       "      <td>491.584480</td>\n",
       "      <td>90.332643</td>\n",
       "      <td>58.592710</td>\n",
       "      <td>No Failure</td>\n",
       "      <td>10800</td>\n",
       "      <td>1.451621e+09</td>\n",
       "    </tr>\n",
       "    <tr>\n",
       "      <th>306642</th>\n",
       "      <td>93</td>\n",
       "      <td>model3</td>\n",
       "      <td>18</td>\n",
       "      <td>2016-01-01 05:00:00</td>\n",
       "      <td>166.943545</td>\n",
       "      <td>352.047138</td>\n",
       "      <td>82.068954</td>\n",
       "      <td>46.256361</td>\n",
       "      <td>No Failure</td>\n",
       "      <td>7200</td>\n",
       "      <td>1.451624e+09</td>\n",
       "    </tr>\n",
       "    <tr>\n",
       "      <th>306643</th>\n",
       "      <td>93</td>\n",
       "      <td>model3</td>\n",
       "      <td>18</td>\n",
       "      <td>2016-01-01 06:00:00</td>\n",
       "      <td>186.324464</td>\n",
       "      <td>459.337856</td>\n",
       "      <td>114.542401</td>\n",
       "      <td>48.191245</td>\n",
       "      <td>No Failure</td>\n",
       "      <td>3600</td>\n",
       "      <td>1.451628e+09</td>\n",
       "    </tr>\n",
       "  </tbody>\n",
       "</table>\n",
       "<p>306644 rows × 11 columns</p>\n",
       "</div>"
      ],
      "text/plain": [
       "        machineID   model  age            datetime        volt      rotate  \\\n",
       "0               1  model3   18 2015-01-01 06:00:00  176.217853  418.504078   \n",
       "1               1  model3   18 2015-01-01 07:00:00  162.879223  402.747490   \n",
       "2               1  model3   18 2015-01-01 08:00:00  170.989902  527.349825   \n",
       "3               1  model3   18 2015-01-01 09:00:00  162.462833  346.149335   \n",
       "4               1  model3   18 2015-01-01 10:00:00  157.610021  435.376873   \n",
       "...           ...     ...  ...                 ...         ...         ...   \n",
       "306639         93  model3   18 2016-01-01 02:00:00  202.858467  412.870855   \n",
       "306640         93  model3   18 2016-01-01 03:00:00  171.364527  459.880473   \n",
       "306641         93  model3   18 2016-01-01 04:00:00  182.867119  491.584480   \n",
       "306642         93  model3   18 2016-01-01 05:00:00  166.943545  352.047138   \n",
       "306643         93  model3   18 2016-01-01 06:00:00  186.324464  459.337856   \n",
       "\n",
       "          pressure  vibration     failure  seconds_to_fail     timestamp  \n",
       "0       113.077935  45.087686  No Failure           345600  1.420092e+09  \n",
       "1        95.460525  43.413973  No Failure           342000  1.420096e+09  \n",
       "2        75.237905  34.178847  No Failure           338400  1.420099e+09  \n",
       "3       109.248561  41.122144  No Failure           334800  1.420103e+09  \n",
       "4       111.886648  25.990511  No Failure           331200  1.420106e+09  \n",
       "...            ...        ...         ...              ...           ...  \n",
       "306639   85.569847  47.701614  No Failure            18000  1.451614e+09  \n",
       "306640   94.316793  47.592136  No Failure            14400  1.451617e+09  \n",
       "306641   90.332643  58.592710  No Failure            10800  1.451621e+09  \n",
       "306642   82.068954  46.256361  No Failure             7200  1.451624e+09  \n",
       "306643  114.542401  48.191245  No Failure             3600  1.451628e+09  \n",
       "\n",
       "[306644 rows x 11 columns]"
      ]
     },
     "execution_count": 42,
     "metadata": {},
     "output_type": "execute_result"
    }
   ],
   "source": [
    "model3_data = telemetry[telemetry['model'] == 'model3'].reset_index(drop=True)\n",
    "model3_data"
   ]
  },
  {
   "cell_type": "code",
   "execution_count": 43,
   "id": "2589ae46",
   "metadata": {
    "execution": {
     "iopub.execute_input": "2025-01-02T22:39:00.905444Z",
     "iopub.status.busy": "2025-01-02T22:39:00.904989Z",
     "iopub.status.idle": "2025-01-02T22:39:00.910286Z",
     "shell.execute_reply": "2025-01-02T22:39:00.909182Z"
    },
    "papermill": {
     "duration": 0.027732,
     "end_time": "2025-01-02T22:39:00.911929",
     "exception": false,
     "start_time": "2025-01-02T22:39:00.884197",
     "status": "completed"
    },
    "tags": []
   },
   "outputs": [],
   "source": [
    "def create_time_step(data, machine_id):\n",
    "    machine_id_data = data[data['machineID'] == machine_id]\n",
    "    time_step = np.arange(1, machine_id_data.shape[0]+1)\n",
    "    machine_id_data['time_step'] = time_step\n",
    "    return machine_id_data"
   ]
  },
  {
   "cell_type": "code",
   "execution_count": 44,
   "id": "de783e49",
   "metadata": {
    "execution": {
     "iopub.execute_input": "2025-01-02T22:39:00.952987Z",
     "iopub.status.busy": "2025-01-02T22:39:00.952489Z",
     "iopub.status.idle": "2025-01-02T22:39:01.016798Z",
     "shell.execute_reply": "2025-01-02T22:39:01.015663Z"
    },
    "papermill": {
     "duration": 0.08636,
     "end_time": "2025-01-02T22:39:01.018345",
     "exception": false,
     "start_time": "2025-01-02T22:39:00.931985",
     "status": "completed"
    },
    "tags": []
   },
   "outputs": [
    {
     "data": {
      "text/plain": [
       "35"
      ]
     },
     "execution_count": 44,
     "metadata": {},
     "output_type": "execute_result"
    }
   ],
   "source": [
    "machineIDs = model3_data['machineID'].unique()\n",
    "dataframes_with_time_step = []\n",
    "for machine_id in machineIDs:\n",
    "    dataframes_with_time_step.append(create_time_step(model3_data, machine_id))\n",
    "len(dataframes_with_time_step)"
   ]
  },
  {
   "cell_type": "code",
   "execution_count": 45,
   "id": "15f4ac09",
   "metadata": {
    "execution": {
     "iopub.execute_input": "2025-01-02T22:39:01.059550Z",
     "iopub.status.busy": "2025-01-02T22:39:01.059083Z",
     "iopub.status.idle": "2025-01-02T22:39:01.340103Z",
     "shell.execute_reply": "2025-01-02T22:39:01.338872Z"
    },
    "papermill": {
     "duration": 0.303966,
     "end_time": "2025-01-02T22:39:01.342121",
     "exception": false,
     "start_time": "2025-01-02T22:39:01.038155",
     "status": "completed"
    },
    "tags": []
   },
   "outputs": [],
   "source": [
    "model3_data = pd.DataFrame()\n",
    "for df in dataframes_with_time_step:\n",
    "    model3_data = pd.concat([model3_data, df])"
   ]
  },
  {
   "cell_type": "markdown",
   "id": "06dcfa55",
   "metadata": {
    "_cell_guid": "a431fa0f-c595-451d-a5ce-d2129d83056f",
    "_uuid": "27878026-8f8d-4641-be0a-ca00b607848d",
    "id": "Ty_d60O5e9uP",
    "papermill": {
     "duration": 0.019412,
     "end_time": "2025-01-02T22:39:01.381470",
     "exception": false,
     "start_time": "2025-01-02T22:39:01.362058",
     "status": "completed"
    },
    "tags": []
   },
   "source": [
    "### Removing unecessary columns"
   ]
  },
  {
   "cell_type": "code",
   "execution_count": 46,
   "id": "cfb29e6d",
   "metadata": {
    "_cell_guid": "ed6c647e-8a3f-498b-8673-950fde6ff03d",
    "_uuid": "4acfecc6-0f38-4c55-aab2-94898a7a0fe3",
    "collapsed": false,
    "execution": {
     "iopub.execute_input": "2025-01-02T22:39:01.422970Z",
     "iopub.status.busy": "2025-01-02T22:39:01.422492Z",
     "iopub.status.idle": "2025-01-02T22:39:01.445579Z",
     "shell.execute_reply": "2025-01-02T22:39:01.444195Z"
    },
    "id": "-MsOHjFge9uP",
    "jupyter": {
     "outputs_hidden": false
    },
    "outputId": "b03eda3f-34da-444e-9667-217055f1fa20",
    "papermill": {
     "duration": 0.046292,
     "end_time": "2025-01-02T22:39:01.447450",
     "exception": false,
     "start_time": "2025-01-02T22:39:01.401158",
     "status": "completed"
    },
    "tags": []
   },
   "outputs": [
    {
     "data": {
      "text/html": [
       "<div>\n",
       "<style scoped>\n",
       "    .dataframe tbody tr th:only-of-type {\n",
       "        vertical-align: middle;\n",
       "    }\n",
       "\n",
       "    .dataframe tbody tr th {\n",
       "        vertical-align: top;\n",
       "    }\n",
       "\n",
       "    .dataframe thead th {\n",
       "        text-align: right;\n",
       "    }\n",
       "</style>\n",
       "<table border=\"1\" class=\"dataframe\">\n",
       "  <thead>\n",
       "    <tr style=\"text-align: right;\">\n",
       "      <th></th>\n",
       "      <th>age</th>\n",
       "      <th>volt</th>\n",
       "      <th>rotate</th>\n",
       "      <th>pressure</th>\n",
       "      <th>vibration</th>\n",
       "      <th>seconds_to_fail</th>\n",
       "      <th>time_step</th>\n",
       "    </tr>\n",
       "  </thead>\n",
       "  <tbody>\n",
       "    <tr>\n",
       "      <th>0</th>\n",
       "      <td>18</td>\n",
       "      <td>176.217853</td>\n",
       "      <td>418.504078</td>\n",
       "      <td>113.077935</td>\n",
       "      <td>45.087686</td>\n",
       "      <td>345600</td>\n",
       "      <td>1</td>\n",
       "    </tr>\n",
       "    <tr>\n",
       "      <th>1</th>\n",
       "      <td>18</td>\n",
       "      <td>162.879223</td>\n",
       "      <td>402.747490</td>\n",
       "      <td>95.460525</td>\n",
       "      <td>43.413973</td>\n",
       "      <td>342000</td>\n",
       "      <td>2</td>\n",
       "    </tr>\n",
       "    <tr>\n",
       "      <th>2</th>\n",
       "      <td>18</td>\n",
       "      <td>170.989902</td>\n",
       "      <td>527.349825</td>\n",
       "      <td>75.237905</td>\n",
       "      <td>34.178847</td>\n",
       "      <td>338400</td>\n",
       "      <td>3</td>\n",
       "    </tr>\n",
       "    <tr>\n",
       "      <th>3</th>\n",
       "      <td>18</td>\n",
       "      <td>162.462833</td>\n",
       "      <td>346.149335</td>\n",
       "      <td>109.248561</td>\n",
       "      <td>41.122144</td>\n",
       "      <td>334800</td>\n",
       "      <td>4</td>\n",
       "    </tr>\n",
       "    <tr>\n",
       "      <th>4</th>\n",
       "      <td>18</td>\n",
       "      <td>157.610021</td>\n",
       "      <td>435.376873</td>\n",
       "      <td>111.886648</td>\n",
       "      <td>25.990511</td>\n",
       "      <td>331200</td>\n",
       "      <td>5</td>\n",
       "    </tr>\n",
       "    <tr>\n",
       "      <th>...</th>\n",
       "      <td>...</td>\n",
       "      <td>...</td>\n",
       "      <td>...</td>\n",
       "      <td>...</td>\n",
       "      <td>...</td>\n",
       "      <td>...</td>\n",
       "      <td>...</td>\n",
       "    </tr>\n",
       "    <tr>\n",
       "      <th>306639</th>\n",
       "      <td>18</td>\n",
       "      <td>202.858467</td>\n",
       "      <td>412.870855</td>\n",
       "      <td>85.569847</td>\n",
       "      <td>47.701614</td>\n",
       "      <td>18000</td>\n",
       "      <td>8757</td>\n",
       "    </tr>\n",
       "    <tr>\n",
       "      <th>306640</th>\n",
       "      <td>18</td>\n",
       "      <td>171.364527</td>\n",
       "      <td>459.880473</td>\n",
       "      <td>94.316793</td>\n",
       "      <td>47.592136</td>\n",
       "      <td>14400</td>\n",
       "      <td>8758</td>\n",
       "    </tr>\n",
       "    <tr>\n",
       "      <th>306641</th>\n",
       "      <td>18</td>\n",
       "      <td>182.867119</td>\n",
       "      <td>491.584480</td>\n",
       "      <td>90.332643</td>\n",
       "      <td>58.592710</td>\n",
       "      <td>10800</td>\n",
       "      <td>8759</td>\n",
       "    </tr>\n",
       "    <tr>\n",
       "      <th>306642</th>\n",
       "      <td>18</td>\n",
       "      <td>166.943545</td>\n",
       "      <td>352.047138</td>\n",
       "      <td>82.068954</td>\n",
       "      <td>46.256361</td>\n",
       "      <td>7200</td>\n",
       "      <td>8760</td>\n",
       "    </tr>\n",
       "    <tr>\n",
       "      <th>306643</th>\n",
       "      <td>18</td>\n",
       "      <td>186.324464</td>\n",
       "      <td>459.337856</td>\n",
       "      <td>114.542401</td>\n",
       "      <td>48.191245</td>\n",
       "      <td>3600</td>\n",
       "      <td>8761</td>\n",
       "    </tr>\n",
       "  </tbody>\n",
       "</table>\n",
       "<p>306644 rows × 7 columns</p>\n",
       "</div>"
      ],
      "text/plain": [
       "        age        volt      rotate    pressure  vibration  seconds_to_fail  \\\n",
       "0        18  176.217853  418.504078  113.077935  45.087686           345600   \n",
       "1        18  162.879223  402.747490   95.460525  43.413973           342000   \n",
       "2        18  170.989902  527.349825   75.237905  34.178847           338400   \n",
       "3        18  162.462833  346.149335  109.248561  41.122144           334800   \n",
       "4        18  157.610021  435.376873  111.886648  25.990511           331200   \n",
       "...     ...         ...         ...         ...        ...              ...   \n",
       "306639   18  202.858467  412.870855   85.569847  47.701614            18000   \n",
       "306640   18  171.364527  459.880473   94.316793  47.592136            14400   \n",
       "306641   18  182.867119  491.584480   90.332643  58.592710            10800   \n",
       "306642   18  166.943545  352.047138   82.068954  46.256361             7200   \n",
       "306643   18  186.324464  459.337856  114.542401  48.191245             3600   \n",
       "\n",
       "        time_step  \n",
       "0               1  \n",
       "1               2  \n",
       "2               3  \n",
       "3               4  \n",
       "4               5  \n",
       "...           ...  \n",
       "306639       8757  \n",
       "306640       8758  \n",
       "306641       8759  \n",
       "306642       8760  \n",
       "306643       8761  \n",
       "\n",
       "[306644 rows x 7 columns]"
      ]
     },
     "execution_count": 46,
     "metadata": {},
     "output_type": "execute_result"
    }
   ],
   "source": [
    "#model3_data = model3_data[['age', 'volt', 'rotate', 'pressure', 'vibration', 'seconds_to_fail']]\n",
    "model3_data.drop(['model', 'failure', 'datetime', 'timestamp', 'machineID'], axis=1, inplace=True)\n",
    "model3_data"
   ]
  },
  {
   "cell_type": "markdown",
   "id": "8a990af1",
   "metadata": {
    "_cell_guid": "c37f97be-fa07-4a17-833a-3a97bfbb0b5b",
    "_uuid": "baf274d2-fc47-4ed2-a996-1a51f52cf78c",
    "id": "mleJQdhle9uP",
    "papermill": {
     "duration": 0.019994,
     "end_time": "2025-01-02T22:39:01.487694",
     "exception": false,
     "start_time": "2025-01-02T22:39:01.467700",
     "status": "completed"
    },
    "tags": []
   },
   "source": [
    "## Data normalization"
   ]
  },
  {
   "cell_type": "code",
   "execution_count": 47,
   "id": "d9dd8744",
   "metadata": {
    "_cell_guid": "1d8b795d-a0a2-439e-9393-e6f4b3d90d87",
    "_uuid": "0989c93e-aa17-40ec-b14b-0a7cfe608348",
    "collapsed": false,
    "execution": {
     "iopub.execute_input": "2025-01-02T22:39:01.530211Z",
     "iopub.status.busy": "2025-01-02T22:39:01.529685Z",
     "iopub.status.idle": "2025-01-02T22:39:01.579809Z",
     "shell.execute_reply": "2025-01-02T22:39:01.578625Z"
    },
    "id": "ZCkaQHkKe9uP",
    "jupyter": {
     "outputs_hidden": false
    },
    "outputId": "ea3bc697-3745-473b-db7d-74f8b7b50b80",
    "papermill": {
     "duration": 0.073945,
     "end_time": "2025-01-02T22:39:01.581553",
     "exception": false,
     "start_time": "2025-01-02T22:39:01.507608",
     "status": "completed"
    },
    "tags": []
   },
   "outputs": [
    {
     "data": {
      "text/html": [
       "<div>\n",
       "<style scoped>\n",
       "    .dataframe tbody tr th:only-of-type {\n",
       "        vertical-align: middle;\n",
       "    }\n",
       "\n",
       "    .dataframe tbody tr th {\n",
       "        vertical-align: top;\n",
       "    }\n",
       "\n",
       "    .dataframe thead th {\n",
       "        text-align: right;\n",
       "    }\n",
       "</style>\n",
       "<table border=\"1\" class=\"dataframe\">\n",
       "  <thead>\n",
       "    <tr style=\"text-align: right;\">\n",
       "      <th></th>\n",
       "      <th>age</th>\n",
       "      <th>volt</th>\n",
       "      <th>rotate</th>\n",
       "      <th>pressure</th>\n",
       "      <th>vibration</th>\n",
       "      <th>seconds_to_fail</th>\n",
       "      <th>time_step</th>\n",
       "    </tr>\n",
       "  </thead>\n",
       "  <tbody>\n",
       "    <tr>\n",
       "      <th>0</th>\n",
       "      <td>0.894737</td>\n",
       "      <td>0.510638</td>\n",
       "      <td>0.469652</td>\n",
       "      <td>0.472451</td>\n",
       "      <td>0.476569</td>\n",
       "      <td>0.010958</td>\n",
       "      <td>0.000000</td>\n",
       "    </tr>\n",
       "    <tr>\n",
       "      <th>1</th>\n",
       "      <td>0.894737</td>\n",
       "      <td>0.421045</td>\n",
       "      <td>0.439431</td>\n",
       "      <td>0.337821</td>\n",
       "      <td>0.448935</td>\n",
       "      <td>0.010844</td>\n",
       "      <td>0.000114</td>\n",
       "    </tr>\n",
       "    <tr>\n",
       "      <th>2</th>\n",
       "      <td>0.894737</td>\n",
       "      <td>0.475523</td>\n",
       "      <td>0.678413</td>\n",
       "      <td>0.183282</td>\n",
       "      <td>0.296461</td>\n",
       "      <td>0.010729</td>\n",
       "      <td>0.000228</td>\n",
       "    </tr>\n",
       "    <tr>\n",
       "      <th>3</th>\n",
       "      <td>0.894737</td>\n",
       "      <td>0.418248</td>\n",
       "      <td>0.330878</td>\n",
       "      <td>0.443188</td>\n",
       "      <td>0.411097</td>\n",
       "      <td>0.010615</td>\n",
       "      <td>0.000342</td>\n",
       "    </tr>\n",
       "    <tr>\n",
       "      <th>4</th>\n",
       "      <td>0.894737</td>\n",
       "      <td>0.385652</td>\n",
       "      <td>0.502013</td>\n",
       "      <td>0.463348</td>\n",
       "      <td>0.161269</td>\n",
       "      <td>0.010501</td>\n",
       "      <td>0.000457</td>\n",
       "    </tr>\n",
       "  </tbody>\n",
       "</table>\n",
       "</div>"
      ],
      "text/plain": [
       "        age      volt    rotate  pressure  vibration  seconds_to_fail  \\\n",
       "0  0.894737  0.510638  0.469652  0.472451   0.476569         0.010958   \n",
       "1  0.894737  0.421045  0.439431  0.337821   0.448935         0.010844   \n",
       "2  0.894737  0.475523  0.678413  0.183282   0.296461         0.010729   \n",
       "3  0.894737  0.418248  0.330878  0.443188   0.411097         0.010615   \n",
       "4  0.894737  0.385652  0.502013  0.463348   0.161269         0.010501   \n",
       "\n",
       "   time_step  \n",
       "0   0.000000  \n",
       "1   0.000114  \n",
       "2   0.000228  \n",
       "3   0.000342  \n",
       "4   0.000457  "
      ]
     },
     "execution_count": 47,
     "metadata": {},
     "output_type": "execute_result"
    }
   ],
   "source": [
    "scaler = MinMaxScaler()\n",
    "\n",
    "normalized_telemetry = pd.DataFrame(data=scaler.fit_transform(model3_data), columns=model3_data.columns)\n",
    "normalized_telemetry.head()"
   ]
  },
  {
   "cell_type": "markdown",
   "id": "3a993472",
   "metadata": {
    "_cell_guid": "6e329e84-a9df-4c21-8b91-ea4713e03b51",
    "_uuid": "fb03e7d6-5ec1-4776-b257-5183f8e11dfc",
    "id": "riVxcYHNe9uP",
    "papermill": {
     "duration": 0.019988,
     "end_time": "2025-01-02T22:39:01.621929",
     "exception": false,
     "start_time": "2025-01-02T22:39:01.601941",
     "status": "completed"
    },
    "tags": []
   },
   "source": [
    "## Splitting train, test and validations sets"
   ]
  },
  {
   "cell_type": "markdown",
   "id": "db55dd70",
   "metadata": {
    "_cell_guid": "7ec0a273-93c5-4db4-a0c0-e47c142e2122",
    "_uuid": "78bcae71-13a4-4020-bd94-fb5d1f97ddce",
    "id": "0utCU-8Te9uQ",
    "papermill": {
     "duration": 0.019755,
     "end_time": "2025-01-02T22:39:01.661773",
     "exception": false,
     "start_time": "2025-01-02T22:39:01.642018",
     "status": "completed"
    },
    "tags": []
   },
   "source": [
    "### Calculating the sets size"
   ]
  },
  {
   "cell_type": "code",
   "execution_count": 48,
   "id": "bbb5f8f9",
   "metadata": {
    "_cell_guid": "c0df94f3-0403-4c62-a673-e1a68a28d3a3",
    "_uuid": "a5ea7da9-6a4c-440f-b9f8-6ef64f91b88e",
    "collapsed": false,
    "execution": {
     "iopub.execute_input": "2025-01-02T22:39:01.703519Z",
     "iopub.status.busy": "2025-01-02T22:39:01.703099Z",
     "iopub.status.idle": "2025-01-02T22:39:01.709925Z",
     "shell.execute_reply": "2025-01-02T22:39:01.708696Z"
    },
    "id": "uvWEUfYve9uQ",
    "jupyter": {
     "outputs_hidden": false
    },
    "outputId": "3a92e092-de0a-4adb-de22-6c707e485e5e",
    "papermill": {
     "duration": 0.03001,
     "end_time": "2025-01-02T22:39:01.711733",
     "exception": false,
     "start_time": "2025-01-02T22:39:01.681723",
     "status": "completed"
    },
    "tags": []
   },
   "outputs": [
    {
     "name": "stdout",
     "output_type": "stream",
     "text": [
      "Train size: 214651\n",
      "Test and validation size: 45997\n"
     ]
    }
   ],
   "source": [
    "train_size = math.ceil(normalized_telemetry.shape[0] * 0.7)\n",
    "test_and_val_size = math.ceil((normalized_telemetry.shape[0] * 0.3) / 2)\n",
    "print(f'Train size: {train_size}')\n",
    "print(f'Test and validation size: {test_and_val_size}')"
   ]
  },
  {
   "cell_type": "markdown",
   "id": "8541cac9",
   "metadata": {
    "_cell_guid": "10e86db4-424e-4090-8fe4-b654ee71eea3",
    "_uuid": "3699a7bb-14ca-45c5-b33d-d6116f93fc67",
    "id": "f-hfjqvbe9uQ",
    "papermill": {
     "duration": 0.020968,
     "end_time": "2025-01-02T22:39:01.753330",
     "exception": false,
     "start_time": "2025-01-02T22:39:01.732362",
     "status": "completed"
    },
    "tags": []
   },
   "source": [
    "### Selecting the samples"
   ]
  },
  {
   "cell_type": "code",
   "execution_count": 49,
   "id": "3eb1c759",
   "metadata": {
    "_cell_guid": "7d4f914b-63f3-4ec1-bfcf-486026029fc7",
    "_uuid": "2b935f2f-a1ff-4309-a980-f644be364a76",
    "collapsed": false,
    "execution": {
     "iopub.execute_input": "2025-01-02T22:39:01.795564Z",
     "iopub.status.busy": "2025-01-02T22:39:01.795098Z",
     "iopub.status.idle": "2025-01-02T22:39:01.805132Z",
     "shell.execute_reply": "2025-01-02T22:39:01.804107Z"
    },
    "id": "A5e5F5kAe9uQ",
    "jupyter": {
     "outputs_hidden": false
    },
    "outputId": "461dfcdd-432e-49bd-b7c5-a39e4ae10e6c",
    "papermill": {
     "duration": 0.032928,
     "end_time": "2025-01-02T22:39:01.806846",
     "exception": false,
     "start_time": "2025-01-02T22:39:01.773918",
     "status": "completed"
    },
    "tags": []
   },
   "outputs": [
    {
     "data": {
      "text/plain": [
       "((214651, 7), (45997, 7), (45996, 7))"
      ]
     },
     "execution_count": 49,
     "metadata": {},
     "output_type": "execute_result"
    }
   ],
   "source": [
    "train_set = normalized_telemetry[:train_size]\n",
    "validation_init_index = train_size + test_and_val_size\n",
    "\n",
    "test_set = normalized_telemetry[train_size:validation_init_index].reset_index(drop=True)\n",
    "val_set = normalized_telemetry[validation_init_index:].reset_index(drop=True)\n",
    "\n",
    "train_set.shape, test_set.shape, val_set.shape"
   ]
  },
  {
   "cell_type": "markdown",
   "id": "c6d917f7",
   "metadata": {
    "_cell_guid": "8bd583c8-fe42-4d5e-8b39-471db5d9603f",
    "_uuid": "d230dff1-314a-4d66-840b-ef4217d43e98",
    "id": "FEMV1jOxe9uR",
    "papermill": {
     "duration": 0.020074,
     "end_time": "2025-01-02T22:39:01.847569",
     "exception": false,
     "start_time": "2025-01-02T22:39:01.827495",
     "status": "completed"
    },
    "tags": []
   },
   "source": [
    "### X and y split"
   ]
  },
  {
   "cell_type": "code",
   "execution_count": 50,
   "id": "3b13d889",
   "metadata": {
    "execution": {
     "iopub.execute_input": "2025-01-02T22:39:01.949271Z",
     "iopub.status.busy": "2025-01-02T22:39:01.948839Z",
     "iopub.status.idle": "2025-01-02T22:39:01.967836Z",
     "shell.execute_reply": "2025-01-02T22:39:01.966558Z"
    },
    "papermill": {
     "duration": 0.101523,
     "end_time": "2025-01-02T22:39:01.969590",
     "exception": false,
     "start_time": "2025-01-02T22:39:01.868067",
     "status": "completed"
    },
    "tags": []
   },
   "outputs": [],
   "source": [
    "X_train = train_set.drop('seconds_to_fail', axis=1)\n",
    "X_train = np.array(X_train)\n",
    "y_train = train_set['seconds_to_fail']\n",
    "y_train = np.array(y_train)\n",
    "\n",
    "X_test = test_set.drop('seconds_to_fail', axis=1)\n",
    "X_test = np.array(X_test)\n",
    "y_test = test_set['seconds_to_fail']\n",
    "y_test = np.array(y_test)\n",
    "\n",
    "X_valid = val_set.drop('seconds_to_fail', axis=1)\n",
    "X_valid = np.array(X_valid)\n",
    "y_valid = val_set['seconds_to_fail']\n",
    "y_valid = np.array(y_valid)"
   ]
  },
  {
   "cell_type": "markdown",
   "id": "f3ef14c5",
   "metadata": {
    "papermill": {
     "duration": 0.019968,
     "end_time": "2025-01-02T22:39:02.010251",
     "exception": false,
     "start_time": "2025-01-02T22:39:01.990283",
     "status": "completed"
    },
    "tags": []
   },
   "source": [
    "# List of models and its params"
   ]
  },
  {
   "cell_type": "code",
   "execution_count": 51,
   "id": "34648a68",
   "metadata": {
    "execution": {
     "iopub.execute_input": "2025-01-02T22:39:02.052707Z",
     "iopub.status.busy": "2025-01-02T22:39:02.052258Z",
     "iopub.status.idle": "2025-01-02T22:39:02.058040Z",
     "shell.execute_reply": "2025-01-02T22:39:02.056908Z"
    },
    "papermill": {
     "duration": 0.029096,
     "end_time": "2025-01-02T22:39:02.059776",
     "exception": false,
     "start_time": "2025-01-02T22:39:02.030680",
     "status": "completed"
    },
    "tags": []
   },
   "outputs": [],
   "source": [
    "from sklearn.linear_model import ElasticNet, LinearRegression\n",
    "from sklearn.tree import DecisionTreeRegressor\n",
    "from sklearn.ensemble import RandomForestRegressor, GradientBoostingRegressor, AdaBoostRegressor\n",
    "from sklearn.svm import SVR\n",
    "from sklearn.neighbors import KNeighborsRegressor\n",
    "from sklearn.linear_model import LinearRegression"
   ]
  },
  {
   "cell_type": "code",
   "execution_count": 52,
   "id": "8ba7d5f0",
   "metadata": {
    "execution": {
     "iopub.execute_input": "2025-01-02T22:39:02.102175Z",
     "iopub.status.busy": "2025-01-02T22:39:02.101682Z",
     "iopub.status.idle": "2025-01-02T22:39:02.107077Z",
     "shell.execute_reply": "2025-01-02T22:39:02.106025Z"
    },
    "papermill": {
     "duration": 0.028514,
     "end_time": "2025-01-02T22:39:02.108558",
     "exception": false,
     "start_time": "2025-01-02T22:39:02.080044",
     "status": "completed"
    },
    "tags": []
   },
   "outputs": [],
   "source": [
    "models = [\n",
    "    ('ElasticNet', ElasticNet()),\n",
    "    ('DecisionTree', DecisionTreeRegressor(random_state=42)),\n",
    "    ('RandomForest', RandomForestRegressor(random_state=42)),\n",
    "    ('KNN', KNeighborsRegressor()),\n",
    "    ('GradientBoosting', GradientBoostingRegressor(random_state=42)),\n",
    "    ('AdaBoost', AdaBoostRegressor(random_state=42))\n",
    "]"
   ]
  },
  {
   "cell_type": "code",
   "execution_count": 53,
   "id": "c258e462",
   "metadata": {
    "execution": {
     "iopub.execute_input": "2025-01-02T22:39:02.151479Z",
     "iopub.status.busy": "2025-01-02T22:39:02.151063Z",
     "iopub.status.idle": "2025-01-02T22:39:02.163699Z",
     "shell.execute_reply": "2025-01-02T22:39:02.162619Z"
    },
    "papermill": {
     "duration": 0.036117,
     "end_time": "2025-01-02T22:39:02.165510",
     "exception": false,
     "start_time": "2025-01-02T22:39:02.129393",
     "status": "completed"
    },
    "tags": []
   },
   "outputs": [
    {
     "data": {
      "text/plain": [
       "{'ElasticNet': ElasticNet(),\n",
       " 'DecisionTree': DecisionTreeRegressor(random_state=42),\n",
       " 'RandomForest': RandomForestRegressor(random_state=42),\n",
       " 'KNN': KNeighborsRegressor(),\n",
       " 'GradientBoosting': GradientBoostingRegressor(random_state=42),\n",
       " 'AdaBoost': AdaBoostRegressor(random_state=42)}"
      ]
     },
     "execution_count": 53,
     "metadata": {},
     "output_type": "execute_result"
    }
   ],
   "source": [
    "dict(models)"
   ]
  },
  {
   "cell_type": "code",
   "execution_count": 54,
   "id": "85a77fb2",
   "metadata": {
    "execution": {
     "iopub.execute_input": "2025-01-02T22:39:02.210429Z",
     "iopub.status.busy": "2025-01-02T22:39:02.210023Z",
     "iopub.status.idle": "2025-01-02T22:39:02.218637Z",
     "shell.execute_reply": "2025-01-02T22:39:02.217618Z"
    },
    "papermill": {
     "duration": 0.032736,
     "end_time": "2025-01-02T22:39:02.220307",
     "exception": false,
     "start_time": "2025-01-02T22:39:02.187571",
     "status": "completed"
    },
    "tags": []
   },
   "outputs": [],
   "source": [
    "tuning_params = {\n",
    "    'ElasticNet': {\n",
    "        'alpha': np.logspace(np.log10(0.1), np.log10(10)),\n",
    "        'l1_ratio': np.logspace(np.log10(0.1), np.log10(0.9)),\n",
    "        'tol': np.logspace(np.log10(1e-4), np.log10(1e-6))\n",
    "    },\n",
    "    'DecisionTree': {\n",
    "        'max_depth': np.arange(1, 20),\n",
    "        'min_samples_split': np.arange(2, 20),\n",
    "        'min_samples_leaf': np.arange(1, 10),\n",
    "        'max_features': ['sqrt', 'log2']\n",
    "    },\n",
    "    'RandomForest': {\n",
    "        'max_depth': [10, 20],\n",
    "        'min_samples_split': [2, 20],\n",
    "        'min_samples_leaf': [1, 10],\n",
    "        'max_features': ['log2']\n",
    "    },\n",
    "    'KNN': {\n",
    "        'n_neighbors': np.arange(2, 20),\n",
    "        'weights': ['uniform', 'distance'],\n",
    "        'algorithm': ['auto'],\n",
    "        'p': [1, 2]\n",
    "    },\n",
    "    'GradientBoosting': {\n",
    "        'learning_rate': np.logspace(np.log10(0.01), np.log10(0.2)),\n",
    "        'max_depth': np.arange(3, 10),\n",
    "        'min_samples_split': np.arange(2, 20),\n",
    "        'min_samples_leaf': np.arange(1, 10)\n",
    "    },\n",
    "    'AdaBoost': {\n",
    "        'n_estimators': [50, 100, 200, 500],\n",
    "        'learning_rate': [0.01, 0.1, 1],\n",
    "        'loss': ['linear', 'square', 'exponential']\n",
    "    }\n",
    "}"
   ]
  },
  {
   "cell_type": "code",
   "execution_count": 55,
   "id": "d390acc8",
   "metadata": {
    "execution": {
     "iopub.execute_input": "2025-01-02T22:39:02.265386Z",
     "iopub.status.busy": "2025-01-02T22:39:02.264955Z",
     "iopub.status.idle": "2025-01-02T23:45:25.955547Z",
     "shell.execute_reply": "2025-01-02T23:45:25.954086Z"
    },
    "papermill": {
     "duration": 3983.73987,
     "end_time": "2025-01-02T23:45:25.982131",
     "exception": false,
     "start_time": "2025-01-02T22:39:02.242261",
     "status": "completed"
    },
    "tags": []
   },
   "outputs": [
    {
     "name": "stderr",
     "output_type": "stream",
     "text": [
      "Tuning Models: 100%|██████████| 6/6 [1:06:23<00:00, 663.95s/model]\n"
     ]
    }
   ],
   "source": [
    "tuned_models, _ = tune_and_evaluate_models(X_train, X_valid, y_train, y_valid,\n",
    "                                          dict(models[:]), tuning_params, mean_squared_error,\n",
    "                                          n_iter=20, cv=TimeSeriesSplit(n_splits=5), seed=42)"
   ]
  },
  {
   "cell_type": "code",
   "execution_count": 56,
   "id": "86f0646a",
   "metadata": {
    "execution": {
     "iopub.execute_input": "2025-01-02T23:45:26.037657Z",
     "iopub.status.busy": "2025-01-02T23:45:26.037246Z",
     "iopub.status.idle": "2025-01-03T00:05:56.046188Z",
     "shell.execute_reply": "2025-01-03T00:05:56.044435Z"
    },
    "papermill": {
     "duration": 1230.03951,
     "end_time": "2025-01-03T00:05:56.051000",
     "exception": false,
     "start_time": "2025-01-02T23:45:26.011490",
     "status": "completed"
    },
    "tags": []
   },
   "outputs": [
    {
     "name": "stderr",
     "output_type": "stream",
     "text": [
      "Generations: 100%|██████████| 10/10 [19:12<00:00, 115.26s/gen]\n"
     ]
    }
   ],
   "source": [
    "solver = ga_stacking(\n",
    "    X_train, y_train, X_valid, y_valid,\n",
    "    tuned_models,\n",
    "    ElasticNet(),\n",
    "    10,\n",
    "    mean_squared_error,\n",
    "    metric_mode='error',\n",
    "    seed=42,\n",
    "    task='regressor'\n",
    ")\n",
    "solver.solve()\n",
    "model = solver.best_model"
   ]
  },
  {
   "cell_type": "code",
   "execution_count": 57,
   "id": "2d9dc098",
   "metadata": {
    "execution": {
     "iopub.execute_input": "2025-01-03T00:05:56.116537Z",
     "iopub.status.busy": "2025-01-03T00:05:56.116117Z",
     "iopub.status.idle": "2025-01-03T00:05:56.148767Z",
     "shell.execute_reply": "2025-01-03T00:05:56.146431Z"
    },
    "papermill": {
     "duration": 0.061267,
     "end_time": "2025-01-03T00:05:56.152191",
     "exception": false,
     "start_time": "2025-01-03T00:05:56.090924",
     "status": "completed"
    },
    "tags": []
   },
   "outputs": [],
   "source": [
    "y_pred = model.predict(X_test)"
   ]
  },
  {
   "cell_type": "code",
   "execution_count": 58,
   "id": "6127ff60",
   "metadata": {
    "execution": {
     "iopub.execute_input": "2025-01-03T00:05:56.282150Z",
     "iopub.status.busy": "2025-01-03T00:05:56.281685Z",
     "iopub.status.idle": "2025-01-03T00:05:56.290402Z",
     "shell.execute_reply": "2025-01-03T00:05:56.289063Z"
    },
    "papermill": {
     "duration": 0.053253,
     "end_time": "2025-01-03T00:05:56.292206",
     "exception": false,
     "start_time": "2025-01-03T00:05:56.238953",
     "status": "completed"
    },
    "tags": []
   },
   "outputs": [
    {
     "data": {
      "text/plain": [
       "0.011064521821610402"
      ]
     },
     "execution_count": 58,
     "metadata": {},
     "output_type": "execute_result"
    }
   ],
   "source": [
    "mean_squared_error(y_pred=y_pred, y_true=y_test)"
   ]
  },
  {
   "cell_type": "code",
   "execution_count": 59,
   "id": "62a77d35",
   "metadata": {
    "execution": {
     "iopub.execute_input": "2025-01-03T00:05:56.342027Z",
     "iopub.status.busy": "2025-01-03T00:05:56.341595Z",
     "iopub.status.idle": "2025-01-03T00:05:56.348250Z",
     "shell.execute_reply": "2025-01-03T00:05:56.347120Z"
    },
    "papermill": {
     "duration": 0.033622,
     "end_time": "2025-01-03T00:05:56.349819",
     "exception": false,
     "start_time": "2025-01-03T00:05:56.316197",
     "status": "completed"
    },
    "tags": []
   },
   "outputs": [
    {
     "data": {
      "text/plain": [
       "array([0, 1, 0, 0, 0, 1])"
      ]
     },
     "execution_count": 59,
     "metadata": {},
     "output_type": "execute_result"
    }
   ],
   "source": [
    "solver.best_combination"
   ]
  },
  {
   "cell_type": "code",
   "execution_count": 60,
   "id": "dd87ead4",
   "metadata": {
    "execution": {
     "iopub.execute_input": "2025-01-03T00:05:56.427251Z",
     "iopub.status.busy": "2025-01-03T00:05:56.426636Z",
     "iopub.status.idle": "2025-01-03T00:06:01.337318Z",
     "shell.execute_reply": "2025-01-03T00:06:01.336156Z"
    },
    "papermill": {
     "duration": 4.951187,
     "end_time": "2025-01-03T00:06:01.339069",
     "exception": false,
     "start_time": "2025-01-03T00:05:56.387882",
     "status": "completed"
    },
    "tags": []
   },
   "outputs": [
    {
     "name": "stdout",
     "output_type": "stream",
     "text": [
      "========================================\n",
      "Model: ElasticNet\n",
      "\n",
      "Chosen Parameters:\n",
      "  • alpha: 9.102981779915218\n",
      "  • l1_ratio: 0.5747766808779754\n",
      "  • tol: 4.71486636345739e-05\n",
      "\n",
      "Metrics:\n",
      "  • Mean Squared Error: 0.011064521821610402\n",
      "\n",
      "========================================\n",
      "========================================\n",
      "Model: DecisionTree\n",
      "\n",
      "Chosen Parameters:\n",
      "  • max_depth: 17\n",
      "  • min_samples_split: 9\n",
      "  • min_samples_leaf: 1\n",
      "  • max_features: sqrt\n",
      "\n",
      "Metrics:\n",
      "  • Mean Squared Error: 0.023536642762934306\n",
      "\n",
      "========================================\n",
      "========================================\n",
      "Model: RandomForest\n",
      "\n",
      "Chosen Parameters:\n",
      "  • max_depth: 20\n",
      "  • min_samples_split: 2\n",
      "  • min_samples_leaf: 1\n",
      "  • max_features: log2\n",
      "\n",
      "Metrics:\n",
      "  • Mean Squared Error: 0.02023706660547224\n",
      "\n",
      "========================================\n",
      "========================================\n",
      "Model: KNN\n",
      "\n",
      "Chosen Parameters:\n",
      "  • n_neighbors: 2\n",
      "  • weights: uniform\n",
      "  • algorithm: auto\n",
      "  • p: 1\n",
      "\n",
      "Metrics:\n",
      "  • Mean Squared Error: 0.028309433614634966\n",
      "\n",
      "========================================\n",
      "========================================\n",
      "Model: GradientBoosting\n",
      "\n",
      "Chosen Parameters:\n",
      "  • learning_rate: 0.1769810349879349\n",
      "  • max_depth: 9\n",
      "  • min_samples_split: 3\n",
      "  • min_samples_leaf: 5\n",
      "\n",
      "Metrics:\n",
      "  • Mean Squared Error: 0.021946521147457394\n",
      "\n",
      "========================================\n",
      "========================================\n",
      "Model: AdaBoost\n",
      "\n",
      "Chosen Parameters:\n",
      "  • n_estimators: 200\n",
      "  • learning_rate: 1\n",
      "  • loss: linear\n",
      "\n",
      "Metrics:\n",
      "  • Mean Squared Error: 0.013103802176467666\n",
      "\n",
      "========================================\n"
     ]
    }
   ],
   "source": [
    "for tuned_model_name, tuned_model in tuned_models.items():\n",
    "    y_pred = tuned_model.predict(X_test)\n",
    "    # Print model name and its chosen parameters\n",
    "    print(f'{\"=\"*40}\\nModel: {tuned_model_name}\\n')\n",
    "    \n",
    "    # Extract the chosen parameters for the current model from `tuning_params`\n",
    "    chosen_params = tuning_params.get(tuned_model_name, {})\n",
    "    \n",
    "    # Print only the chosen parameters\n",
    "    if chosen_params:\n",
    "        print(\"Chosen Parameters:\")\n",
    "        for param, values in chosen_params.items():\n",
    "            print(f'  • {param}: {tuned_model.get_params().get(param, \"Not Set\")}')\n",
    "    \n",
    "    print()  # Newline after parameters\n",
    "    \n",
    "    # Print metrics with bullet points\n",
    "    print(f'Metrics:\\n'\n",
    "          f'  • Mean Squared Error: {mean_squared_error(y_pred=y_pred, y_true=y_test)}\\n')\n",
    "    \n",
    "    # Separator between models\n",
    "    print(\"=\"*40)"
   ]
  }
 ],
 "metadata": {
  "kaggle": {
   "accelerator": "none",
   "dataSources": [
    {
     "datasetId": 922230,
     "sourceId": 1561528,
     "sourceType": "datasetVersion"
    }
   ],
   "isGpuEnabled": false,
   "isInternetEnabled": true,
   "language": "python",
   "sourceType": "notebook"
  },
  "kernelspec": {
   "display_name": "Python 3",
   "language": "python",
   "name": "python3"
  },
  "language_info": {
   "codemirror_mode": {
    "name": "ipython",
    "version": 3
   },
   "file_extension": ".py",
   "mimetype": "text/x-python",
   "name": "python",
   "nbconvert_exporter": "python",
   "pygments_lexer": "ipython3",
   "version": "3.10.12"
  },
  "papermill": {
   "default_parameters": {},
   "duration": 5254.716677,
   "end_time": "2025-01-03T00:06:02.598010",
   "environment_variables": {},
   "exception": null,
   "input_path": "__notebook__.ipynb",
   "output_path": "__notebook__.ipynb",
   "parameters": {},
   "start_time": "2025-01-02T22:38:27.881333",
   "version": "2.6.0"
  }
 },
 "nbformat": 4,
 "nbformat_minor": 5
}
